{
 "cells": [
  {
   "cell_type": "markdown",
   "metadata": {},
   "source": [
    "# Project Title\n",
    "The Value of Education\n",
    "\n",
    "## Team Members\n",
    "Jimmy Heinz III, Tom Veeder, Anne Marie Sticksel, Sineekarn Watcharawikran\n",
    "\n",
    "## Project Description/Outline\n",
    "We are looking at higher education data and making connections between costs, financial aid, program (majors), and school types. By using the College Scorecard, we have access to data from multiple years, so we can see trends in higher education in the US.\n",
    "\n",
    "## Research Questions to Answer\n",
    "1. How has the increase in tuition affected debt levels?\n",
    "2. What is the rate of increase for school costs?\n",
    "3. Is there a return on investment for certain programs/career tracks?\n",
    "4. Are certain programs increasing in popularity/enrollment?\n",
    "5. Is the return on investment related to choice of program?\n",
    "6. Has enrollment in online programs increased?\n",
    "7. Do certain programs (areas of study) have bigger tuition debt than others?\n",
    "8. Does level of education affect any of this?\n",
    "9. Do school types (private/public) affect debt and income?\n",
    "\n",
    "## Datasets to Be Used\n",
    "* College Scorecard: https://collegescorecard.ed.gov/data/documentation/\n",
    "* Financial Aid data: https://studentaid.ed.gov/sa/about/data-center/\n",
    "\n",
    "## Rough Breakdown of Tasks\n",
    "* Read through the documentation available on the college scorecard site\n",
    "* Looking through the data & deciding how to limit the information\n",
    "* Further brainstorming on what data we want to use, how to combine it\n",
    "* Deciding how to best combine the data\n",
    "* Breaking up the tasks into rough categories (debt, programs, splitting by school type)\n",
    "* Make some visualization based on our individual tasks\n",
    "* Compare public and private\n",
    "* Compare programs\n",
    "* \n"
   ]
  },
  {
   "cell_type": "code",
   "execution_count": null,
   "metadata": {},
   "outputs": [],
   "source": []
  }
 ],
 "metadata": {
  "kernelspec": {
   "display_name": "Python 3",
   "language": "python",
   "name": "python3"
  },
  "language_info": {
   "codemirror_mode": {
    "name": "ipython",
    "version": 3
   },
   "file_extension": ".py",
   "mimetype": "text/x-python",
   "name": "python",
   "nbconvert_exporter": "python",
   "pygments_lexer": "ipython3",
   "version": "3.7.4"
  }
 },
 "nbformat": 4,
 "nbformat_minor": 4
}
