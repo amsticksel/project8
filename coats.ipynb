{
 "cells": [
  {
   "cell_type": "code",
   "execution_count": 24,
   "metadata": {},
   "outputs": [],
   "source": [
    "# Dependencies\n",
    "import requests\n",
    "import json\n",
    "import pandas as pd\n",
    "import csv\n",
    "import matplotlib.pyplot as plt\n",
    "import numpy as np"
   ]
  },
  {
   "cell_type": "code",
   "execution_count": 40,
   "metadata": {},
   "outputs": [
    {
     "data": {
      "text/html": [
       "<div>\n",
       "<style scoped>\n",
       "    .dataframe tbody tr th:only-of-type {\n",
       "        vertical-align: middle;\n",
       "    }\n",
       "\n",
       "    .dataframe tbody tr th {\n",
       "        vertical-align: top;\n",
       "    }\n",
       "\n",
       "    .dataframe thead th {\n",
       "        text-align: right;\n",
       "    }\n",
       "</style>\n",
       "<table border=\"1\" class=\"dataframe\">\n",
       "  <thead>\n",
       "    <tr style=\"text-align: right;\">\n",
       "      <th></th>\n",
       "      <th>status</th>\n",
       "      <th>primary_breed</th>\n",
       "      <th>gender</th>\n",
       "      <th>size</th>\n",
       "      <th>state</th>\n",
       "      <th>coat</th>\n",
       "    </tr>\n",
       "  </thead>\n",
       "  <tbody>\n",
       "    <tr>\n",
       "      <td>0</td>\n",
       "      <td>adoptable</td>\n",
       "      <td>Siberian Husky</td>\n",
       "      <td>Female</td>\n",
       "      <td>Medium</td>\n",
       "      <td>CA</td>\n",
       "      <td>NaN</td>\n",
       "    </tr>\n",
       "    <tr>\n",
       "      <td>1</td>\n",
       "      <td>adoptable</td>\n",
       "      <td>Jack Russell Terrier</td>\n",
       "      <td>Male</td>\n",
       "      <td>Small</td>\n",
       "      <td>IN</td>\n",
       "      <td>Short</td>\n",
       "    </tr>\n",
       "    <tr>\n",
       "      <td>2</td>\n",
       "      <td>adoptable</td>\n",
       "      <td>Shih Tzu</td>\n",
       "      <td>Male</td>\n",
       "      <td>Small</td>\n",
       "      <td>NC</td>\n",
       "      <td>Long</td>\n",
       "    </tr>\n",
       "    <tr>\n",
       "      <td>3</td>\n",
       "      <td>adoptable</td>\n",
       "      <td>Cocker Spaniel</td>\n",
       "      <td>Male</td>\n",
       "      <td>Medium</td>\n",
       "      <td>FL</td>\n",
       "      <td>Long</td>\n",
       "    </tr>\n",
       "    <tr>\n",
       "      <td>4</td>\n",
       "      <td>adoptable</td>\n",
       "      <td>Goldendoodle</td>\n",
       "      <td>Female</td>\n",
       "      <td>Medium</td>\n",
       "      <td>ON</td>\n",
       "      <td>NaN</td>\n",
       "    </tr>\n",
       "    <tr>\n",
       "      <td>...</td>\n",
       "      <td>...</td>\n",
       "      <td>...</td>\n",
       "      <td>...</td>\n",
       "      <td>...</td>\n",
       "      <td>...</td>\n",
       "      <td>...</td>\n",
       "    </tr>\n",
       "    <tr>\n",
       "      <td>19995</td>\n",
       "      <td>adoptable</td>\n",
       "      <td>Australian Shepherd</td>\n",
       "      <td>Male</td>\n",
       "      <td>Medium</td>\n",
       "      <td>TX</td>\n",
       "      <td>NaN</td>\n",
       "    </tr>\n",
       "    <tr>\n",
       "      <td>19996</td>\n",
       "      <td>adoptable</td>\n",
       "      <td>Labrador Retriever</td>\n",
       "      <td>Male</td>\n",
       "      <td>Medium</td>\n",
       "      <td>TX</td>\n",
       "      <td>NaN</td>\n",
       "    </tr>\n",
       "    <tr>\n",
       "      <td>19997</td>\n",
       "      <td>adoptable</td>\n",
       "      <td>Staffordshire Bull Terrier</td>\n",
       "      <td>Male</td>\n",
       "      <td>Medium</td>\n",
       "      <td>IN</td>\n",
       "      <td>NaN</td>\n",
       "    </tr>\n",
       "    <tr>\n",
       "      <td>19998</td>\n",
       "      <td>adoptable</td>\n",
       "      <td>West Highland White Terrier / Westie</td>\n",
       "      <td>Female</td>\n",
       "      <td>Small</td>\n",
       "      <td>MA</td>\n",
       "      <td>NaN</td>\n",
       "    </tr>\n",
       "    <tr>\n",
       "      <td>19999</td>\n",
       "      <td>adoptable</td>\n",
       "      <td>Pit Bull Terrier</td>\n",
       "      <td>Female</td>\n",
       "      <td>Medium</td>\n",
       "      <td>NC</td>\n",
       "      <td>NaN</td>\n",
       "    </tr>\n",
       "  </tbody>\n",
       "</table>\n",
       "<p>20000 rows × 6 columns</p>\n",
       "</div>"
      ],
      "text/plain": [
       "          status                         primary_breed  gender    size state  \\\n",
       "0      adoptable                        Siberian Husky  Female  Medium    CA   \n",
       "1      adoptable                  Jack Russell Terrier    Male   Small    IN   \n",
       "2      adoptable                              Shih Tzu    Male   Small    NC   \n",
       "3      adoptable                        Cocker Spaniel    Male  Medium    FL   \n",
       "4      adoptable                          Goldendoodle  Female  Medium    ON   \n",
       "...          ...                                   ...     ...     ...   ...   \n",
       "19995  adoptable                   Australian Shepherd    Male  Medium    TX   \n",
       "19996  adoptable                    Labrador Retriever    Male  Medium    TX   \n",
       "19997  adoptable            Staffordshire Bull Terrier    Male  Medium    IN   \n",
       "19998  adoptable  West Highland White Terrier / Westie  Female   Small    MA   \n",
       "19999  adoptable                      Pit Bull Terrier  Female  Medium    NC   \n",
       "\n",
       "        coat  \n",
       "0        NaN  \n",
       "1      Short  \n",
       "2       Long  \n",
       "3       Long  \n",
       "4        NaN  \n",
       "...      ...  \n",
       "19995    NaN  \n",
       "19996    NaN  \n",
       "19997    NaN  \n",
       "19998    NaN  \n",
       "19999    NaN  \n",
       "\n",
       "[20000 rows x 6 columns]"
      ]
     },
     "execution_count": 40,
     "metadata": {},
     "output_type": "execute_result"
    }
   ],
   "source": [
    "dog_data = pd.read_csv('dogs.csv')\n",
    "df = pd.DataFrame(dog_data)\n",
    "\n",
    "reduced_df = df[[\"status\", \"primary_breed\", \"gender\", \"size\", \"state\", \"coat\"]]\n",
    "reduced_df"
   ]
  },
  {
   "cell_type": "code",
   "execution_count": 41,
   "metadata": {},
   "outputs": [
    {
     "data": {
      "text/html": [
       "<div>\n",
       "<style scoped>\n",
       "    .dataframe tbody tr th:only-of-type {\n",
       "        vertical-align: middle;\n",
       "    }\n",
       "\n",
       "    .dataframe tbody tr th {\n",
       "        vertical-align: top;\n",
       "    }\n",
       "\n",
       "    .dataframe thead th {\n",
       "        text-align: right;\n",
       "    }\n",
       "</style>\n",
       "<table border=\"1\" class=\"dataframe\">\n",
       "  <thead>\n",
       "    <tr style=\"text-align: right;\">\n",
       "      <th></th>\n",
       "      <th>status</th>\n",
       "      <th>primary_breed</th>\n",
       "      <th>gender</th>\n",
       "      <th>size</th>\n",
       "      <th>state</th>\n",
       "      <th>coat</th>\n",
       "    </tr>\n",
       "  </thead>\n",
       "  <tbody>\n",
       "    <tr>\n",
       "      <td>count</td>\n",
       "      <td>20000</td>\n",
       "      <td>20000</td>\n",
       "      <td>20000</td>\n",
       "      <td>20000</td>\n",
       "      <td>20000</td>\n",
       "      <td>6638</td>\n",
       "    </tr>\n",
       "    <tr>\n",
       "      <td>unique</td>\n",
       "      <td>3</td>\n",
       "      <td>207</td>\n",
       "      <td>2</td>\n",
       "      <td>4</td>\n",
       "      <td>60</td>\n",
       "      <td>6</td>\n",
       "    </tr>\n",
       "    <tr>\n",
       "      <td>top</td>\n",
       "      <td>adoptable</td>\n",
       "      <td>Labrador Retriever</td>\n",
       "      <td>Male</td>\n",
       "      <td>Medium</td>\n",
       "      <td>TX</td>\n",
       "      <td>Short</td>\n",
       "    </tr>\n",
       "    <tr>\n",
       "      <td>freq</td>\n",
       "      <td>18214</td>\n",
       "      <td>2521</td>\n",
       "      <td>10463</td>\n",
       "      <td>9902</td>\n",
       "      <td>2567</td>\n",
       "      <td>4601</td>\n",
       "    </tr>\n",
       "  </tbody>\n",
       "</table>\n",
       "</div>"
      ],
      "text/plain": [
       "           status       primary_breed gender    size  state   coat\n",
       "count       20000               20000  20000   20000  20000   6638\n",
       "unique          3                 207      2       4     60      6\n",
       "top     adoptable  Labrador Retriever   Male  Medium     TX  Short\n",
       "freq        18214                2521  10463    9902   2567   4601"
      ]
     },
     "execution_count": 41,
     "metadata": {},
     "output_type": "execute_result"
    }
   ],
   "source": [
    "reduced_df.describe()"
   ]
  },
  {
   "cell_type": "code",
   "execution_count": 42,
   "metadata": {},
   "outputs": [
    {
     "data": {
      "text/html": [
       "<div>\n",
       "<style scoped>\n",
       "    .dataframe tbody tr th:only-of-type {\n",
       "        vertical-align: middle;\n",
       "    }\n",
       "\n",
       "    .dataframe tbody tr th {\n",
       "        vertical-align: top;\n",
       "    }\n",
       "\n",
       "    .dataframe thead th {\n",
       "        text-align: right;\n",
       "    }\n",
       "</style>\n",
       "<table border=\"1\" class=\"dataframe\">\n",
       "  <thead>\n",
       "    <tr style=\"text-align: right;\">\n",
       "      <th></th>\n",
       "      <th>coat</th>\n",
       "    </tr>\n",
       "  </thead>\n",
       "  <tbody>\n",
       "    <tr>\n",
       "      <td>Short</td>\n",
       "      <td>0.693130</td>\n",
       "    </tr>\n",
       "    <tr>\n",
       "      <td>Medium</td>\n",
       "      <td>0.227026</td>\n",
       "    </tr>\n",
       "    <tr>\n",
       "      <td>Long</td>\n",
       "      <td>0.054836</td>\n",
       "    </tr>\n",
       "    <tr>\n",
       "      <td>Curly</td>\n",
       "      <td>0.012353</td>\n",
       "    </tr>\n",
       "    <tr>\n",
       "      <td>Wire</td>\n",
       "      <td>0.010847</td>\n",
       "    </tr>\n",
       "    <tr>\n",
       "      <td>Hairless</td>\n",
       "      <td>0.001808</td>\n",
       "    </tr>\n",
       "  </tbody>\n",
       "</table>\n",
       "</div>"
      ],
      "text/plain": [
       "              coat\n",
       "Short     0.693130\n",
       "Medium    0.227026\n",
       "Long      0.054836\n",
       "Curly     0.012353\n",
       "Wire      0.010847\n",
       "Hairless  0.001808"
      ]
     },
     "execution_count": 42,
     "metadata": {},
     "output_type": "execute_result"
    }
   ],
   "source": [
    "coat = (reduced_df[\"coat\"].value_counts())/6638\n",
    "\n",
    "dfcoat = pd.DataFrame(coat)\n",
    "\n",
    "dfcoat"
   ]
  },
  {
   "cell_type": "code",
   "execution_count": 43,
   "metadata": {},
   "outputs": [
    {
     "data": {
      "text/plain": [
       "array([<matplotlib.axes._subplots.AxesSubplot object at 0x0000020036388688>],\n",
       "      dtype=object)"
      ]
     },
     "execution_count": 43,
     "metadata": {},
     "output_type": "execute_result"
    },
    {
     "data": {
      "image/png": "[encoded data removed]",
      "text/plain": [
       "<Figure size 432x288 with 1 Axes>"
      ]
     },
     "metadata": {
      "needs_background": "light"
     },
     "output_type": "display_data"
    },
    {
     "data": {
      "image/png": "[encoded data removed]",
      "text/plain": [
       "<Figure size 432x288 with 1 Axes>"
      ]
     },
     "metadata": {},
     "output_type": "display_data"
    }
   ],
   "source": [
    "dfcoat.plot.bar(subplots=True)\n",
    "dfcoat.plot.pie(subplots=True)"
   ]
  },
  {
   "cell_type": "code",
   "execution_count": 44,
   "metadata": {},
   "outputs": [
    {
     "data": {
      "text/html": [
       "<div>\n",
       "<style scoped>\n",
       "    .dataframe tbody tr th:only-of-type {\n",
       "        vertical-align: middle;\n",
       "    }\n",
       "\n",
       "    .dataframe tbody tr th {\n",
       "        vertical-align: top;\n",
       "    }\n",
       "\n",
       "    .dataframe thead th {\n",
       "        text-align: right;\n",
       "    }\n",
       "</style>\n",
       "<table border=\"1\" class=\"dataframe\">\n",
       "  <thead>\n",
       "    <tr style=\"text-align: right;\">\n",
       "      <th></th>\n",
       "      <th>coat</th>\n",
       "    </tr>\n",
       "  </thead>\n",
       "  <tbody>\n",
       "    <tr>\n",
       "      <td>Short</td>\n",
       "      <td>0.602273</td>\n",
       "    </tr>\n",
       "    <tr>\n",
       "      <td>Medium</td>\n",
       "      <td>0.262987</td>\n",
       "    </tr>\n",
       "    <tr>\n",
       "      <td>Long</td>\n",
       "      <td>0.084416</td>\n",
       "    </tr>\n",
       "    <tr>\n",
       "      <td>Wire</td>\n",
       "      <td>0.034091</td>\n",
       "    </tr>\n",
       "    <tr>\n",
       "      <td>Curly</td>\n",
       "      <td>0.016234</td>\n",
       "    </tr>\n",
       "  </tbody>\n",
       "</table>\n",
       "</div>"
      ],
      "text/plain": [
       "            coat\n",
       "Short   0.602273\n",
       "Medium  0.262987\n",
       "Long    0.084416\n",
       "Wire    0.034091\n",
       "Curly   0.016234"
      ]
     },
     "execution_count": 44,
     "metadata": {},
     "output_type": "execute_result"
    }
   ],
   "source": [
    "adopted = reduced_df[reduced_df['status']==\"adopted\"]\n",
    "dfadopted = pd.DataFrame(adopted)\n",
    "adopted_coat = (dfadopted[\"coat\"].value_counts())/616\n",
    "dfadopted_coat = pd.DataFrame(adopted_coat)\n",
    "dfadopted_coat"
   ]
  },
  {
   "cell_type": "code",
   "execution_count": 45,
   "metadata": {},
   "outputs": [
    {
     "data": {
      "text/html": [
       "<div>\n",
       "<style scoped>\n",
       "    .dataframe tbody tr th:only-of-type {\n",
       "        vertical-align: middle;\n",
       "    }\n",
       "\n",
       "    .dataframe tbody tr th {\n",
       "        vertical-align: top;\n",
       "    }\n",
       "\n",
       "    .dataframe thead th {\n",
       "        text-align: right;\n",
       "    }\n",
       "</style>\n",
       "<table border=\"1\" class=\"dataframe\">\n",
       "  <thead>\n",
       "    <tr style=\"text-align: right;\">\n",
       "      <th></th>\n",
       "      <th>status</th>\n",
       "      <th>primary_breed</th>\n",
       "      <th>gender</th>\n",
       "      <th>size</th>\n",
       "      <th>state</th>\n",
       "      <th>coat</th>\n",
       "    </tr>\n",
       "  </thead>\n",
       "  <tbody>\n",
       "    <tr>\n",
       "      <td>count</td>\n",
       "      <td>1746</td>\n",
       "      <td>1746</td>\n",
       "      <td>1746</td>\n",
       "      <td>1746</td>\n",
       "      <td>1746</td>\n",
       "      <td>616</td>\n",
       "    </tr>\n",
       "    <tr>\n",
       "      <td>unique</td>\n",
       "      <td>1</td>\n",
       "      <td>120</td>\n",
       "      <td>2</td>\n",
       "      <td>4</td>\n",
       "      <td>53</td>\n",
       "      <td>5</td>\n",
       "    </tr>\n",
       "    <tr>\n",
       "      <td>top</td>\n",
       "      <td>adopted</td>\n",
       "      <td>Labrador Retriever</td>\n",
       "      <td>Male</td>\n",
       "      <td>Medium</td>\n",
       "      <td>CA</td>\n",
       "      <td>Short</td>\n",
       "    </tr>\n",
       "    <tr>\n",
       "      <td>freq</td>\n",
       "      <td>1746</td>\n",
       "      <td>207</td>\n",
       "      <td>880</td>\n",
       "      <td>889</td>\n",
       "      <td>194</td>\n",
       "      <td>371</td>\n",
       "    </tr>\n",
       "  </tbody>\n",
       "</table>\n",
       "</div>"
      ],
      "text/plain": [
       "         status       primary_breed gender    size state   coat\n",
       "count      1746                1746   1746    1746  1746    616\n",
       "unique        1                 120      2       4    53      5\n",
       "top     adopted  Labrador Retriever   Male  Medium    CA  Short\n",
       "freq       1746                 207    880     889   194    371"
      ]
     },
     "execution_count": 45,
     "metadata": {},
     "output_type": "execute_result"
    }
   ],
   "source": [
    "dfadopted.describe()"
   ]
  },
  {
   "cell_type": "code",
   "execution_count": 46,
   "metadata": {},
   "outputs": [
    {
     "data": {
      "text/plain": [
       "array([<matplotlib.axes._subplots.AxesSubplot object at 0x000002003680E448>],\n",
       "      dtype=object)"
      ]
     },
     "execution_count": 46,
     "metadata": {},
     "output_type": "execute_result"
    },
    {
     "data": {
      "image/png": "[encoded data removed]",
      "text/plain": [
       "<Figure size 432x288 with 1 Axes>"
      ]
     },
     "metadata": {
      "needs_background": "light"
     },
     "output_type": "display_data"
    },
    {
     "data": {
      "image/png": "[encoded data removed]",
      "text/plain": [
       "<Figure size 432x288 with 1 Axes>"
      ]
     },
     "metadata": {},
     "output_type": "display_data"
    },
    {
     "data": {
      "image/png": "[encoded data removed]",
      "text/plain": [
       "<Figure size 432x288 with 1 Axes>"
      ]
     },
     "metadata": {
      "needs_background": "light"
     },
     "output_type": "display_data"
    },
    {
     "data": {
      "image/png": "[encoded data removed]",
      "text/plain": [
       "<Figure size 432x288 with 1 Axes>"
      ]
     },
     "metadata": {},
     "output_type": "display_data"
    }
   ],
   "source": [
    "dfadopted_coat.plot.bar(subplots=True, title='adopted')\n",
    "dfadopted_coat.plot.pie(subplots=True, title='adopted')\n",
    "dfcoat.plot.bar(subplots=True)\n",
    "dfcoat.plot.pie(subplots=True)"
   ]
  },
  {
   "cell_type": "code",
   "execution_count": 47,
   "metadata": {},
   "outputs": [
    {
     "data": {
      "text/plain": [
       "Short     371\n",
       "Medium    162\n",
       "Long       52\n",
       "Wire       21\n",
       "Curly      10\n",
       "Name: coat, dtype: int64"
      ]
     },
     "execution_count": 47,
     "metadata": {},
     "output_type": "execute_result"
    }
   ],
   "source": [
    "adopted_coatct = (dfadopted[\"coat\"].value_counts())\n",
    "adopted_coatct"
   ]
  },
  {
   "cell_type": "code",
   "execution_count": 48,
   "metadata": {},
   "outputs": [],
   "source": [
    "coatct= (reduced_df[\"coat\"].value_counts())"
   ]
  },
  {
   "cell_type": "code",
   "execution_count": 49,
   "metadata": {},
   "outputs": [
    {
     "data": {
      "text/plain": [
       "Short       4601\n",
       "Medium      1507\n",
       "Long         364\n",
       "Curly         82\n",
       "Wire          72\n",
       "Hairless      12\n",
       "Name: coat, dtype: int64"
      ]
     },
     "execution_count": 49,
     "metadata": {},
     "output_type": "execute_result"
    }
   ],
   "source": [
    "coatct"
   ]
  },
  {
   "cell_type": "code",
   "execution_count": 50,
   "metadata": {},
   "outputs": [
    {
     "data": {
      "text/plain": [
       "array([<matplotlib.axes._subplots.AxesSubplot object at 0x00000200371DD848>],\n",
       "      dtype=object)"
      ]
     },
     "execution_count": 50,
     "metadata": {},
     "output_type": "execute_result"
    },
    {
     "data": {
      "image/png": "[encoded data removed]",
      "text/plain": [
       "<Figure size 432x288 with 1 Axes>"
      ]
     },
     "metadata": {
      "needs_background": "light"
     },
     "output_type": "display_data"
    },
    {
     "data": {
      "image/png": "[encoded data removed]",
      "text/plain": [
       "<Figure size 432x288 with 1 Axes>"
      ]
     },
     "metadata": {},
     "output_type": "display_data"
    },
    {
     "data": {
      "image/png": "[encoded data removed]",
      "text/plain": [
       "<Figure size 432x288 with 1 Axes>"
      ]
     },
     "metadata": {
      "needs_background": "light"
     },
     "output_type": "display_data"
    },
    {
     "data": {
      "image/png": "[encoded data removed]",
      "text/plain": [
       "<Figure size 432x288 with 1 Axes>"
      ]
     },
     "metadata": {},
     "output_type": "display_data"
    }
   ],
   "source": [
    "dfcoatct = pd.DataFrame(coatct)\n",
    "dfadopted_coatct = pd.DataFrame(adopted_coatct)\n",
    "\n",
    "dfcoatct.plot.bar(subplots=True)\n",
    "dfcoatct.plot.pie(subplots=True)\n",
    "dfadopted_coatct.plot.bar(subplots=True, title='adopted')\n",
    "dfadopted_coatct.plot.pie(subplots=True, title='adopted')"
   ]
  },
  {
   "cell_type": "code",
   "execution_count": 51,
   "metadata": {},
   "outputs": [
    {
     "data": {
      "text/plain": [
       "Curly       12.195122\n",
       "Hairless          NaN\n",
       "Long        14.285714\n",
       "Medium      10.749834\n",
       "Short        8.063464\n",
       "Wire        29.166667\n",
       "Name: coat, dtype: float64"
      ]
     },
     "execution_count": 51,
     "metadata": {},
     "output_type": "execute_result"
    }
   ],
   "source": [
    "divided = (adopted_coatct/coatct)*100\n",
    "divided"
   ]
  },
  {
   "cell_type": "code",
   "execution_count": 52,
   "metadata": {},
   "outputs": [
    {
     "data": {
      "text/plain": [
       "array([<matplotlib.axes._subplots.AxesSubplot object at 0x0000020038652A88>],\n",
       "      dtype=object)"
      ]
     },
     "execution_count": 52,
     "metadata": {},
     "output_type": "execute_result"
    },
    {
     "data": {
      "image/png": "[encoded data removed]",
      "text/plain": [
       "<Figure size 432x288 with 1 Axes>"
      ]
     },
     "metadata": {
      "needs_background": "light"
     },
     "output_type": "display_data"
    }
   ],
   "source": [
    "divided_df = pd.DataFrame(divided)\n",
    "divided_df.plot.bar(subplots=True, title='adopted percentage')\n"
   ]
  },
  {
   "cell_type": "code",
   "execution_count": null,
   "metadata": {},
   "outputs": [],
   "source": []
  }
 ],
 "metadata": {
  "kernelspec": {
   "display_name": "Python 3",
   "language": "python",
   "name": "python3"
  },
  "language_info": {
   "codemirror_mode": {
    "name": "ipython",
    "version": 3
   },
   "file_extension": ".py",
   "mimetype": "text/x-python",
   "name": "python",
   "nbconvert_exporter": "python",
   "pygments_lexer": "ipython3",
   "version": "3.7.4"
  }
 },
 "nbformat": 4,
 "nbformat_minor": 4
}
