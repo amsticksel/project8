{
 "cells": [
  {
   "cell_type": "code",
   "execution_count": 34,
   "metadata": {},
   "outputs": [],
   "source": [
    "# Dependencies\n",
    "import requests\n",
    "import json"
   ]
  },
  {
   "cell_type": "code",
   "execution_count": 66,
   "metadata": {},
   "outputs": [
    {
     "name": "stdout",
     "output_type": "stream",
     "text": [
      "Puppy 4\n",
      "Puppy 2\n",
      "Denali\n",
      "Lucky\n",
      "Kellman\n",
      "Bradley\n",
      "Turk\n",
      "Rascal\n",
      "Leo\n",
      "Baxter\n",
      "Bear\n",
      "Callahan\n",
      "Truman\n",
      "Felix\n",
      "Lucas\n",
      "Nemo\n",
      "Copper\n",
      "Chito\n",
      "Lucky\n",
      "MI/Otis\n"
     ]
    }
   ],
   "source": [
    "# URL for GET requests to retrieve vehicle data\n",
    "url = \"https://api.petfinder.com/v2/oauth2/token\"\n",
    "client_id = \"lQI1GugWEHDOyN5YRIR8C8gkvTgOO3bJfjkJcC0VxNvSRvUCJj\"\n",
    "client_secret = \"hux5D899a8oQoMdUWxq7iw4iw9kl3p8bS89b8o6b\"\n",
    "body = {\"grant_type\": \"client_credentials\",\n",
    "        \"client_id\": client_id,\n",
    "        \"client_secret\": client_secret}\n",
    "headers = {}\n",
    "r = requests.post(url, data=json.dumps(body), headers=headers)\n",
    "result_json = r.json()\n",
    "token = result_json[\"access_token\"]\n",
    "\n",
    "params = {\n",
    "    \"type\": \"dog\",\n",
    "    \"page\": \"1\",\n",
    "    \"gender\": \"male\"\n",
    "}\n",
    "headers = {\n",
    "    \"Authorization\": f\"Bearer {token}\"\n",
    "}\n",
    "boydogs = []\n",
    "for i in range(0, 1):\n",
    "    params[\"page\"] = str(int(params[\"page\"]) + 1)\n",
    "    result = requests.get(\"https://api.petfinder.com/v2/animals\",\n",
    "                params=params,\n",
    "                headers=headers)\n",
    "    \n",
    "    animals = result.json()\n",
    "for animal in animals[\"animals\"]:\n",
    "    print(animal[\"name\"])\n",
    "    #dogs.append(result.json()[\"animals\"])\n",
    "#print(json.dumps(dogs, indent=4, sort_keys=True))\n",
    "#dogs[\"animals\"][\"name\"]"
   ]
  },
  {
   "cell_type": "code",
   "execution_count": 39,
   "metadata": {},
   "outputs": [],
   "source": [
    "# Pretty print JSON for all launchpads\n",
    "response = requests.get(url).json()\n",
    "#params={'q': 'requests+language:python'},\n",
    "#    headers={'Accept': 'application/vnd.github.v3.text-match+json'},\n",
    "#\"grant_type=client_credentials&client_id={CLIENT-ID}&client_secret={CLIENT-SECRET}\"\n",
    "\n",
    "#\"Authorization: Bearer {YOUR_ACCESS_TOKEN}\" GET https://api.petfinder.com/v2/{CATEGORY}/{ACTION}?{parameter_1}={value_1}&{parameter_2}={value_2}\n",
    "\n",
    "    "
   ]
  },
  {
   "cell_type": "code",
   "execution_count": 40,
   "metadata": {},
   "outputs": [
    {
     "name": "stdout",
     "output_type": "stream",
     "text": [
      "{\n",
      "    \"detail\": \"Access token invalid or expired\",\n",
      "    \"status\": 401,\n",
      "    \"title\": \"Unauthorized\",\n",
      "    \"type\": \"https://httpstatus.es/401\"\n",
      "}\n"
     ]
    }
   ],
   "source": [
    "# Pretty print JSON for a specific launchpad\n",
    "response = requests.get(url).json()\n",
    "print(json.dumps(response, indent=4, sort_keys=True))"
   ]
  },
  {
   "cell_type": "code",
   "execution_count": null,
   "metadata": {},
   "outputs": [],
   "source": []
  }
 ],
 "metadata": {
  "kernelspec": {
   "display_name": "Python 3",
   "language": "python",
   "name": "python3"
  },
  "language_info": {
   "codemirror_mode": {
    "name": "ipython",
    "version": 3
   },
   "file_extension": ".py",
   "mimetype": "text/x-python",
   "name": "python",
   "nbconvert_exporter": "python",
   "pygments_lexer": "ipython3",
   "version": "3.7.4"
  },
  "varInspector": {
   "cols": {
    "lenName": 16,
    "lenType": 16,
    "lenVar": 40
   },
   "kernels_config": {
    "python": {
     "delete_cmd_postfix": "",
     "delete_cmd_prefix": "del ",
     "library": "var_list.py",
     "varRefreshCmd": "print(var_dic_list())"
    },
    "r": {
     "delete_cmd_postfix": ") ",
     "delete_cmd_prefix": "rm(",
     "library": "var_list.r",
     "varRefreshCmd": "cat(var_dic_list()) "
    }
   },
   "types_to_exclude": [
    "module",
    "function",
    "builtin_function_or_method",
    "instance",
    "_Feature"
   ],
   "window_display": false
  }
 },
 "nbformat": 4,
 "nbformat_minor": 4
}
