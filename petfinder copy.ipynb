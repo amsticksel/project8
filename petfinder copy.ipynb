{
 "cells": [
  {
   "cell_type": "code",
   "execution_count": null,
   "metadata": {},
   "outputs": [],
   "source": [
    "# Dependencies\n",
    "import requests\n",
    "import json\n",
    "import pandas as pd\n",
    "import csv\n",
    "import os"
   ]
  },
  {
   "cell_type": "code",
   "execution_count": null,
   "metadata": {},
   "outputs": [],
   "source": [
    "# url = \"https://api.petfinder.com/v2/oauth2/token\"\n",
    "# client_id = \"lQI1GugWEHDOyN5YRIR8C8gkvTgOO3bJfjkJcC0VxNvSRvUCJj\"\n",
    "# client_secret = \"hux5D899a8oQoMdUWxq7iw4iw9kl3p8bS89b8o6b\"\n",
    "# body = {\"grant_type\": \"client_credentials\",\n",
    "#        \"client_id\": client_id,\n",
    "#        \"client_secret\": client_secret}\n",
    "# headers = {}\n",
    "# r = requests.post(url, data=json.dumps(body), headers=headers)\n",
    "# result_json = r.json()\n",
    "# token = result_json[\"access_token\"]\n",
    "\n",
    "# params = {\n",
    "#     \"type\": \"dog\",\n",
    "#     \"page\": \"1\",\n",
    "# }\n",
    "# headers = {\n",
    "#     \"Authorization\": f\"Bearer {token}\"\n",
    "# }\n",
    "#dogs=[]\n",
    "# for i in range(0, 1000):\n",
    "#     params[\"page\"] = str(int(params[\"page\"]) + 1)\n",
    "#     result = requests.get(\"https://api.petfinder.com/v2/animals\", params=params, headers=headers)\n",
    "#     dogs.extend(result.json()[\"animals\"])\n",
    "# print(dogs)\n",
    "# from collections import Counter\n",
    "# cnt = Counter()\n",
    "# for dog in dogs:\n",
    "#    breed = dog['breeds']['primary']\n",
    "#    cnt[breed] += 1\n",
    "# print(cnt)"
   ]
  },
  {
   "cell_type": "code",
   "execution_count": null,
   "metadata": {},
   "outputs": [],
   "source": [
    "dogs[0].keys()"
   ]
  },
  {
   "cell_type": "code",
   "execution_count": null,
   "metadata": {},
   "outputs": [],
   "source": [
    "dog_data = []\n",
    "for dog in dogs:\n",
    "    dog_data.append(dog.values())"
   ]
  },
  {
   "cell_type": "code",
   "execution_count": null,
   "metadata": {},
   "outputs": [],
   "source": [
    "df = pd.DataFrame(dog_data)"
   ]
  },
  {
   "cell_type": "code",
   "execution_count": null,
   "metadata": {},
   "outputs": [],
   "source": [
    "df.columns = ['id', 'organization_id', 'url', 'type', 'species', 'breeds', 'colors', 'age', 'gender', 'size', 'coat', 'attributes', 'environment', 'tags', 'name', 'description', 'photos', 'status', 'status_changed_at', 'published_at', 'distance', 'contact', '_links']"
   ]
  },
  {
   "cell_type": "code",
   "execution_count": null,
   "metadata": {},
   "outputs": [],
   "source": [
    "df['name'] = df.name.str.lower()"
   ]
  },
  {
   "cell_type": "code",
   "execution_count": null,
   "metadata": {},
   "outputs": [],
   "source": []
  },
  {
   "cell_type": "code",
   "execution_count": null,
   "metadata": {},
   "outputs": [],
   "source": [
    "df.name.value_counts()\n",
    "df"
   ]
  },
  {
   "cell_type": "code",
   "execution_count": null,
   "metadata": {},
   "outputs": [],
   "source": [
    "dogs[0].keys()"
   ]
  },
  {
   "cell_type": "code",
   "execution_count": null,
   "metadata": {},
   "outputs": [],
   "source": [
    "# Pretty print JSON for all launchpads\n",
    "response = requests.get(url).json()\n",
    "#params={'q': 'requests+language:python'},\n",
    "#    headers={'Accept': 'application/vnd.github.v3.text-match+json'},\n",
    "#\"grant_type=client_credentials&client_id={CLIENT-ID}&client_secret={CLIENT-SECRET}\"\n",
    "\n",
    "#\"Authorization: Bearer {YOUR_ACCESS_TOKEN}\" GET https://api.petfinder.com/v2/{CATEGORY}/{ACTION}?{parameter_1}={value_1}&{parameter_2}={value_2}\n",
    "\n",
    "    "
   ]
  },
  {
   "cell_type": "code",
   "execution_count": null,
   "metadata": {},
   "outputs": [],
   "source": [
    "# Pretty print JSON for a specific launchpad\n",
    "response = requests.get(url).json()\n",
    "print(json.dumps(response, indent=4, sort_keys=True))"
   ]
  },
  {
   "cell_type": "code",
   "execution_count": null,
   "metadata": {},
   "outputs": [],
   "source": [
    "primary_breeds =[]\n",
    "secondary_breeds = []\n",
    "dogcity =[]\n",
    "dogstate = []\n",
    "dogzip = []\n",
    "dogcountry = []\n",
    "dogphoto = []\n",
    "dogcolor1 = []\n",
    "dogcolor2 = []\n",
    "dogcolor3 = []\n",
    "spayed_neutered = []\n",
    "house_trained = []\n",
    "special_needs = []\n",
    "shots_current = []\n",
    "envchildren = []\n",
    "envdogs = []\n",
    "envcats = []\n",
    "\n",
    "for k,v in df.iterrows():\n",
    "    primary_breeds.append(v.breeds['primary'])\n",
    "    secondary_breeds.append(v.breeds['secondary'])\n",
    "    dogcity.append(v.contact['address']['city'])\n",
    "    dogstate.append(v.contact['address']['state'])\n",
    "    dogzip.append(v.contact['address']['postcode'])\n",
    "    dogcountry.append(v.contact['address']['country'])\n",
    "    dogcolor1.append(v.colors['primary'])\n",
    "    dogcolor2.append(v.colors['secondary'])\n",
    "    dogcolor3.append(v.colors['tertiary'])\n",
    "    spayed_neutered.append(v.attributes['spayed_neutered'])\n",
    "    house_trained.append(v.attributes['house_trained'])\n",
    "    special_needs.append(v.attributes['special_needs'])\n",
    "    shots_current.append(v.attributes['shots_current'])\n",
    "    envchildren.append(v.environment['children'])\n",
    "    envdogs.append(v.environment['dogs'])\n",
    "    envcats.append(v.environment['cats'])"
   ]
  },
  {
   "cell_type": "code",
   "execution_count": null,
   "metadata": {},
   "outputs": [],
   "source": [
    "df['primary_breed']= primary_breeds"
   ]
  },
  {
   "cell_type": "code",
   "execution_count": null,
   "metadata": {},
   "outputs": [],
   "source": [
    "df['secondary_breeds'] = secondary_breeds\n"
   ]
  },
  {
   "cell_type": "code",
   "execution_count": null,
   "metadata": {},
   "outputs": [],
   "source": [
    "df['city'] = dogcity\n",
    "df['state'] = dogstate\n",
    "df['zip'] = dogzip\n",
    "df['country'] = dogcountry\n",
    "df['color1'] = dogcolor1\n",
    "df['color2'] = dogcolor2\n",
    "df['color3'] = dogcolor3\n",
    "df['spayed_neutered'] = spayed_neutered\n",
    "df['house_trained'] = house_trained\n",
    "df['special_needs'] = special_needs\n",
    "df['shots_current'] = shots_current\n",
    "df['friendly_children'] = envchildren\n",
    "df['friendly_dogs'] = envdogs\n",
    "df['friendly_cats'] = envcats"
   ]
  },
  {
   "cell_type": "code",
   "execution_count": null,
   "metadata": {},
   "outputs": [],
   "source": [
    "df['published_at'] = pd.to_datetime(df.published_at)\n",
    "df['published_at'] = df['published_at'].dt.tz_convert('US/Central')\n",
    "\n",
    "\n",
    "df['status_changed_at'] = pd.to_datetime(df.status_changed_at)\n",
    "df['status_changed_at'] = df['status_changed_at'].dt.tz_convert('US/Central')\n",
    "\n"
   ]
  },
  {
   "cell_type": "code",
   "execution_count": null,
   "metadata": {},
   "outputs": [],
   "source": [
    "df.info()"
   ]
  },
  {
   "cell_type": "code",
   "execution_count": null,
   "metadata": {},
   "outputs": [],
   "source": [
    "df['published_at'] = df['published_at'].dt.tz_convert('US/Central')\n"
   ]
  },
  {
   "cell_type": "code",
   "execution_count": null,
   "metadata": {},
   "outputs": [],
   "source": [
    "\n",
    "df['status'].value_counts()"
   ]
  },
  {
   "cell_type": "code",
   "execution_count": null,
   "metadata": {},
   "outputs": [],
   "source": [
    "df.to_csv('dogs.csv')\n",
    "dogsdf = pd.read_csv('dogs.csv')"
   ]
  },
  {
   "cell_type": "code",
   "execution_count": null,
   "metadata": {},
   "outputs": [],
   "source": [
    "dogsdf.info()"
   ]
  },
  {
   "cell_type": "code",
   "execution_count": null,
   "metadata": {},
   "outputs": [],
   "source": [
    "from datetime import timedelta\n",
    "from datetime import datetime as dt\n"
   ]
  },
  {
   "cell_type": "code",
   "execution_count": null,
   "metadata": {},
   "outputs": [],
   "source": [
    "df['published_at']."
   ]
  },
  {
   "cell_type": "code",
   "execution_count": null,
   "metadata": {},
   "outputs": [],
   "source": [
    "#df.to_csv(r'doggies.csv')"
   ]
  },
  {
   "cell_type": "code",
   "execution_count": null,
   "metadata": {},
   "outputs": [],
   "source": [
    "#data = pd.read_csv(\"doggies.csv\")\n",
    "#data.head()"
   ]
  },
  {
   "cell_type": "code",
   "execution_count": null,
   "metadata": {},
   "outputs": [],
   "source": []
  },
  {
   "cell_type": "code",
   "execution_count": null,
   "metadata": {},
   "outputs": [],
   "source": []
  },
  {
   "cell_type": "code",
   "execution_count": null,
   "metadata": {},
   "outputs": [],
   "source": []
  }
 ],
 "metadata": {
  "kernelspec": {
   "display_name": "Python 3",
   "language": "python",
   "name": "python3"
  },
  "language_info": {
   "codemirror_mode": {
    "name": "ipython",
    "version": 3
   },
   "file_extension": ".py",
   "mimetype": "text/x-python",
   "name": "python",
   "nbconvert_exporter": "python",
   "pygments_lexer": "ipython3",
   "version": "3.7.4"
  },
  "varInspector": {
   "cols": {
    "lenName": 16,
    "lenType": 16,
    "lenVar": 40
   },
   "kernels_config": {
    "python": {
     "delete_cmd_postfix": "",
     "delete_cmd_prefix": "del ",
     "library": "var_list.py",
     "varRefreshCmd": "print(var_dic_list())"
    },
    "r": {
     "delete_cmd_postfix": ") ",
     "delete_cmd_prefix": "rm(",
     "library": "var_list.r",
     "varRefreshCmd": "cat(var_dic_list()) "
    }
   },
   "types_to_exclude": [
    "module",
    "function",
    "builtin_function_or_method",
    "instance",
    "_Feature"
   ],
   "window_display": false
  }
 },
 "nbformat": 4,
 "nbformat_minor": 4
}
