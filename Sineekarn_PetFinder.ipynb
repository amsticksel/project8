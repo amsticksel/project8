{
 "cells": [
  {
   "cell_type": "code",
   "execution_count": 1,
   "metadata": {},
   "outputs": [],
   "source": [
    "# Dependencies\n",
    "%matplotlib inline\n",
    "import matplotlib.pyplot as plt\n",
    "import matplotlib.ticker as mtick\n",
    "import requests\n",
    "import json\n",
    "import pandas as pd\n",
    "import csv\n",
    "import os\n"
   ]
  },
  {
   "cell_type": "code",
   "execution_count": 2,
   "metadata": {},
   "outputs": [
    {
     "data": {
      "text/html": [
       "<div>\n",
       "<style scoped>\n",
       "    .dataframe tbody tr th:only-of-type {\n",
       "        vertical-align: middle;\n",
       "    }\n",
       "\n",
       "    .dataframe tbody tr th {\n",
       "        vertical-align: top;\n",
       "    }\n",
       "\n",
       "    .dataframe thead th {\n",
       "        text-align: right;\n",
       "    }\n",
       "</style>\n",
       "<table border=\"1\" class=\"dataframe\">\n",
       "  <thead>\n",
       "    <tr style=\"text-align: right;\">\n",
       "      <th></th>\n",
       "      <th>Unnamed: 0</th>\n",
       "      <th>id</th>\n",
       "      <th>organization_id</th>\n",
       "      <th>url</th>\n",
       "      <th>type</th>\n",
       "      <th>species</th>\n",
       "      <th>breeds</th>\n",
       "      <th>colors</th>\n",
       "      <th>age</th>\n",
       "      <th>gender</th>\n",
       "      <th>...</th>\n",
       "      <th>color1</th>\n",
       "      <th>color2</th>\n",
       "      <th>color3</th>\n",
       "      <th>spayed_neutered</th>\n",
       "      <th>house_trained</th>\n",
       "      <th>special_needs</th>\n",
       "      <th>shots_current</th>\n",
       "      <th>friendly_children</th>\n",
       "      <th>friendly_dogs</th>\n",
       "      <th>friendly_cats</th>\n",
       "    </tr>\n",
       "  </thead>\n",
       "  <tbody>\n",
       "    <tr>\n",
       "      <td>0</td>\n",
       "      <td>0</td>\n",
       "      <td>47072487</td>\n",
       "      <td>CA803</td>\n",
       "      <td>https://www.petfinder.com/dog/rowan-47072487/c...</td>\n",
       "      <td>Dog</td>\n",
       "      <td>Dog</td>\n",
       "      <td>{'primary': 'Siberian Husky', 'secondary': Non...</td>\n",
       "      <td>{'primary': None, 'secondary': None, 'tertiary...</td>\n",
       "      <td>Adult</td>\n",
       "      <td>Female</td>\n",
       "      <td>...</td>\n",
       "      <td>NaN</td>\n",
       "      <td>NaN</td>\n",
       "      <td>NaN</td>\n",
       "      <td>True</td>\n",
       "      <td>False</td>\n",
       "      <td>False</td>\n",
       "      <td>False</td>\n",
       "      <td>NaN</td>\n",
       "      <td>NaN</td>\n",
       "      <td>NaN</td>\n",
       "    </tr>\n",
       "    <tr>\n",
       "      <td>1</td>\n",
       "      <td>1</td>\n",
       "      <td>47072473</td>\n",
       "      <td>IN112</td>\n",
       "      <td>https://www.petfinder.com/dog/freeway-47072473...</td>\n",
       "      <td>Dog</td>\n",
       "      <td>Dog</td>\n",
       "      <td>{'primary': 'Jack Russell Terrier', 'secondary...</td>\n",
       "      <td>{'primary': 'Brown / Chocolate', 'secondary': ...</td>\n",
       "      <td>Senior</td>\n",
       "      <td>Male</td>\n",
       "      <td>...</td>\n",
       "      <td>Brown / Chocolate</td>\n",
       "      <td>White / Cream</td>\n",
       "      <td>NaN</td>\n",
       "      <td>True</td>\n",
       "      <td>False</td>\n",
       "      <td>True</td>\n",
       "      <td>True</td>\n",
       "      <td>True</td>\n",
       "      <td>True</td>\n",
       "      <td>NaN</td>\n",
       "    </tr>\n",
       "    <tr>\n",
       "      <td>2</td>\n",
       "      <td>2</td>\n",
       "      <td>47072474</td>\n",
       "      <td>NC924</td>\n",
       "      <td>https://www.petfinder.com/dog/tokie-47072474/n...</td>\n",
       "      <td>Dog</td>\n",
       "      <td>Dog</td>\n",
       "      <td>{'primary': 'Shih Tzu', 'secondary': None, 'mi...</td>\n",
       "      <td>{'primary': 'White / Cream', 'secondary': None...</td>\n",
       "      <td>Young</td>\n",
       "      <td>Male</td>\n",
       "      <td>...</td>\n",
       "      <td>White / Cream</td>\n",
       "      <td>NaN</td>\n",
       "      <td>NaN</td>\n",
       "      <td>True</td>\n",
       "      <td>True</td>\n",
       "      <td>False</td>\n",
       "      <td>True</td>\n",
       "      <td>False</td>\n",
       "      <td>NaN</td>\n",
       "      <td>False</td>\n",
       "    </tr>\n",
       "    <tr>\n",
       "      <td>3</td>\n",
       "      <td>3</td>\n",
       "      <td>47072469</td>\n",
       "      <td>GA916</td>\n",
       "      <td>https://www.petfinder.com/dog/rambo-47072469/f...</td>\n",
       "      <td>Dog</td>\n",
       "      <td>Dog</td>\n",
       "      <td>{'primary': 'Cocker Spaniel', 'secondary': Non...</td>\n",
       "      <td>{'primary': 'Black', 'secondary': 'Yellow / Ta...</td>\n",
       "      <td>Young</td>\n",
       "      <td>Male</td>\n",
       "      <td>...</td>\n",
       "      <td>Black</td>\n",
       "      <td>Yellow / Tan / Blond / Fawn</td>\n",
       "      <td>NaN</td>\n",
       "      <td>True</td>\n",
       "      <td>True</td>\n",
       "      <td>False</td>\n",
       "      <td>True</td>\n",
       "      <td>NaN</td>\n",
       "      <td>True</td>\n",
       "      <td>NaN</td>\n",
       "    </tr>\n",
       "    <tr>\n",
       "      <td>4</td>\n",
       "      <td>4</td>\n",
       "      <td>47072434</td>\n",
       "      <td>ON305</td>\n",
       "      <td>https://www.petfinder.com/dog/rosie-and-posie-...</td>\n",
       "      <td>Dog</td>\n",
       "      <td>Dog</td>\n",
       "      <td>{'primary': 'Goldendoodle', 'secondary': None,...</td>\n",
       "      <td>{'primary': None, 'secondary': None, 'tertiary...</td>\n",
       "      <td>Baby</td>\n",
       "      <td>Female</td>\n",
       "      <td>...</td>\n",
       "      <td>NaN</td>\n",
       "      <td>NaN</td>\n",
       "      <td>NaN</td>\n",
       "      <td>False</td>\n",
       "      <td>True</td>\n",
       "      <td>False</td>\n",
       "      <td>True</td>\n",
       "      <td>True</td>\n",
       "      <td>True</td>\n",
       "      <td>True</td>\n",
       "    </tr>\n",
       "  </tbody>\n",
       "</table>\n",
       "<p>5 rows × 40 columns</p>\n",
       "</div>"
      ],
      "text/plain": [
       "   Unnamed: 0        id organization_id  \\\n",
       "0           0  47072487           CA803   \n",
       "1           1  47072473           IN112   \n",
       "2           2  47072474           NC924   \n",
       "3           3  47072469           GA916   \n",
       "4           4  47072434           ON305   \n",
       "\n",
       "                                                 url type species  \\\n",
       "0  https://www.petfinder.com/dog/rowan-47072487/c...  Dog     Dog   \n",
       "1  https://www.petfinder.com/dog/freeway-47072473...  Dog     Dog   \n",
       "2  https://www.petfinder.com/dog/tokie-47072474/n...  Dog     Dog   \n",
       "3  https://www.petfinder.com/dog/rambo-47072469/f...  Dog     Dog   \n",
       "4  https://www.petfinder.com/dog/rosie-and-posie-...  Dog     Dog   \n",
       "\n",
       "                                              breeds  \\\n",
       "0  {'primary': 'Siberian Husky', 'secondary': Non...   \n",
       "1  {'primary': 'Jack Russell Terrier', 'secondary...   \n",
       "2  {'primary': 'Shih Tzu', 'secondary': None, 'mi...   \n",
       "3  {'primary': 'Cocker Spaniel', 'secondary': Non...   \n",
       "4  {'primary': 'Goldendoodle', 'secondary': None,...   \n",
       "\n",
       "                                              colors     age  gender  ...  \\\n",
       "0  {'primary': None, 'secondary': None, 'tertiary...   Adult  Female  ...   \n",
       "1  {'primary': 'Brown / Chocolate', 'secondary': ...  Senior    Male  ...   \n",
       "2  {'primary': 'White / Cream', 'secondary': None...   Young    Male  ...   \n",
       "3  {'primary': 'Black', 'secondary': 'Yellow / Ta...   Young    Male  ...   \n",
       "4  {'primary': None, 'secondary': None, 'tertiary...    Baby  Female  ...   \n",
       "\n",
       "              color1                       color2 color3 spayed_neutered  \\\n",
       "0                NaN                          NaN    NaN            True   \n",
       "1  Brown / Chocolate                White / Cream    NaN            True   \n",
       "2      White / Cream                          NaN    NaN            True   \n",
       "3              Black  Yellow / Tan / Blond / Fawn    NaN            True   \n",
       "4                NaN                          NaN    NaN           False   \n",
       "\n",
       "  house_trained special_needs shots_current friendly_children friendly_dogs  \\\n",
       "0         False         False         False               NaN           NaN   \n",
       "1         False          True          True              True          True   \n",
       "2          True         False          True             False           NaN   \n",
       "3          True         False          True               NaN          True   \n",
       "4          True         False          True              True          True   \n",
       "\n",
       "  friendly_cats  \n",
       "0           NaN  \n",
       "1           NaN  \n",
       "2         False  \n",
       "3           NaN  \n",
       "4          True  \n",
       "\n",
       "[5 rows x 40 columns]"
      ]
     },
     "execution_count": 2,
     "metadata": {},
     "output_type": "execute_result"
    }
   ],
   "source": [
    "# File to Load (Remember to Change These)\n",
    "file_to_load = \"dogs.csv\"\n",
    "\n",
    "# Read Purchasing File and store into Pandas data frame\n",
    "dogs_sw = pd.read_csv(file_to_load)\n",
    "\n",
    "dogs_sw.head()\n"
   ]
  },
  {
   "cell_type": "code",
   "execution_count": 3,
   "metadata": {},
   "outputs": [
    {
     "data": {
      "text/plain": [
       "Index(['Unnamed: 0', 'id', 'organization_id', 'url', 'type', 'species',\n",
       "       'breeds', 'colors', 'age', 'gender', 'size', 'coat', 'attributes',\n",
       "       'environment', 'tags', 'name', 'description', 'photos', 'status',\n",
       "       'status_changed_at', 'published_at', 'distance', 'contact', '_links',\n",
       "       'primary_breed', 'secondary_breeds', 'city', 'state', 'zip', 'country',\n",
       "       'color1', 'color2', 'color3', 'spayed_neutered', 'house_trained',\n",
       "       'special_needs', 'shots_current', 'friendly_children', 'friendly_dogs',\n",
       "       'friendly_cats'],\n",
       "      dtype='object')"
      ]
     },
     "execution_count": 3,
     "metadata": {},
     "output_type": "execute_result"
    }
   ],
   "source": [
    "dogs_sw.keys()"
   ]
  },
  {
   "cell_type": "code",
   "execution_count": 4,
   "metadata": {},
   "outputs": [
    {
     "data": {
      "text/plain": [
       "Unnamed: 0           20000\n",
       "id                   19947\n",
       "organization_id       3346\n",
       "url                  19947\n",
       "type                     1\n",
       "species                  1\n",
       "breeds                1905\n",
       "colors                 188\n",
       "age                      4\n",
       "gender                   2\n",
       "size                     4\n",
       "coat                     6\n",
       "attributes              16\n",
       "environment             27\n",
       "tags                   883\n",
       "name                  9363\n",
       "description          11970\n",
       "photos               18737\n",
       "status                   3\n",
       "status_changed_at    13719\n",
       "published_at         13790\n",
       "distance                 0\n",
       "contact               3597\n",
       "_links               19947\n",
       "primary_breed          207\n",
       "secondary_breeds       157\n",
       "city                  2050\n",
       "state                   60\n",
       "zip                   3074\n",
       "country                  2\n",
       "color1                  15\n",
       "color2                  15\n",
       "color3                  12\n",
       "spayed_neutered          2\n",
       "house_trained            2\n",
       "special_needs            2\n",
       "shots_current            2\n",
       "friendly_children        2\n",
       "friendly_dogs            2\n",
       "friendly_cats            2\n",
       "dtype: int64"
      ]
     },
     "execution_count": 4,
     "metadata": {},
     "output_type": "execute_result"
    }
   ],
   "source": [
    "unseries = dogs_sw.nunique()\n",
    "unseries"
   ]
  },
  {
   "cell_type": "code",
   "execution_count": 5,
   "metadata": {},
   "outputs": [
    {
     "data": {
      "text/html": [
       "<div>\n",
       "<style scoped>\n",
       "    .dataframe tbody tr th:only-of-type {\n",
       "        vertical-align: middle;\n",
       "    }\n",
       "\n",
       "    .dataframe tbody tr th {\n",
       "        vertical-align: top;\n",
       "    }\n",
       "\n",
       "    .dataframe thead th {\n",
       "        text-align: right;\n",
       "    }\n",
       "</style>\n",
       "<table border=\"1\" class=\"dataframe\">\n",
       "  <thead>\n",
       "    <tr style=\"text-align: right;\">\n",
       "      <th></th>\n",
       "      <th>Unnamed: 0</th>\n",
       "      <th>id</th>\n",
       "      <th>organization_id</th>\n",
       "      <th>url</th>\n",
       "      <th>type</th>\n",
       "      <th>species</th>\n",
       "      <th>breeds</th>\n",
       "      <th>colors</th>\n",
       "      <th>age</th>\n",
       "      <th>gender</th>\n",
       "      <th>...</th>\n",
       "      <th>color1</th>\n",
       "      <th>color2</th>\n",
       "      <th>color3</th>\n",
       "      <th>spayed_neutered</th>\n",
       "      <th>house_trained</th>\n",
       "      <th>special_needs</th>\n",
       "      <th>shots_current</th>\n",
       "      <th>friendly_children</th>\n",
       "      <th>friendly_dogs</th>\n",
       "      <th>friendly_cats</th>\n",
       "    </tr>\n",
       "  </thead>\n",
       "  <tbody>\n",
       "    <tr>\n",
       "      <td>0</td>\n",
       "      <td>0</td>\n",
       "      <td>47072487</td>\n",
       "      <td>CA803</td>\n",
       "      <td>https://www.petfinder.com/dog/rowan-47072487/c...</td>\n",
       "      <td>Dog</td>\n",
       "      <td>Dog</td>\n",
       "      <td>{'primary': 'Siberian Husky', 'secondary': Non...</td>\n",
       "      <td>{'primary': None, 'secondary': None, 'tertiary...</td>\n",
       "      <td>Adult</td>\n",
       "      <td>Female</td>\n",
       "      <td>...</td>\n",
       "      <td>NaN</td>\n",
       "      <td>NaN</td>\n",
       "      <td>NaN</td>\n",
       "      <td>True</td>\n",
       "      <td>False</td>\n",
       "      <td>False</td>\n",
       "      <td>False</td>\n",
       "      <td>NaN</td>\n",
       "      <td>NaN</td>\n",
       "      <td>NaN</td>\n",
       "    </tr>\n",
       "    <tr>\n",
       "      <td>4</td>\n",
       "      <td>4</td>\n",
       "      <td>47072434</td>\n",
       "      <td>ON305</td>\n",
       "      <td>https://www.petfinder.com/dog/rosie-and-posie-...</td>\n",
       "      <td>Dog</td>\n",
       "      <td>Dog</td>\n",
       "      <td>{'primary': 'Goldendoodle', 'secondary': None,...</td>\n",
       "      <td>{'primary': None, 'secondary': None, 'tertiary...</td>\n",
       "      <td>Baby</td>\n",
       "      <td>Female</td>\n",
       "      <td>...</td>\n",
       "      <td>NaN</td>\n",
       "      <td>NaN</td>\n",
       "      <td>NaN</td>\n",
       "      <td>False</td>\n",
       "      <td>True</td>\n",
       "      <td>False</td>\n",
       "      <td>True</td>\n",
       "      <td>True</td>\n",
       "      <td>True</td>\n",
       "      <td>True</td>\n",
       "    </tr>\n",
       "    <tr>\n",
       "      <td>7</td>\n",
       "      <td>7</td>\n",
       "      <td>47072432</td>\n",
       "      <td>OH415</td>\n",
       "      <td>https://www.petfinder.com/dog/christmas-past-4...</td>\n",
       "      <td>Dog</td>\n",
       "      <td>Dog</td>\n",
       "      <td>{'primary': 'Beagle', 'secondary': 'Jack Russe...</td>\n",
       "      <td>{'primary': 'Tricolor (Brown, Black, &amp; White)'...</td>\n",
       "      <td>Baby</td>\n",
       "      <td>Female</td>\n",
       "      <td>...</td>\n",
       "      <td>Tricolor (Brown, Black, &amp; White)</td>\n",
       "      <td>NaN</td>\n",
       "      <td>NaN</td>\n",
       "      <td>True</td>\n",
       "      <td>False</td>\n",
       "      <td>False</td>\n",
       "      <td>True</td>\n",
       "      <td>NaN</td>\n",
       "      <td>NaN</td>\n",
       "      <td>NaN</td>\n",
       "    </tr>\n",
       "    <tr>\n",
       "      <td>8</td>\n",
       "      <td>8</td>\n",
       "      <td>47072466</td>\n",
       "      <td>KS07</td>\n",
       "      <td>https://www.petfinder.com/dog/gwen-47072466/ks...</td>\n",
       "      <td>Dog</td>\n",
       "      <td>Dog</td>\n",
       "      <td>{'primary': 'Dogue de Bordeaux', 'secondary': ...</td>\n",
       "      <td>{'primary': None, 'secondary': None, 'tertiary...</td>\n",
       "      <td>Adult</td>\n",
       "      <td>Female</td>\n",
       "      <td>...</td>\n",
       "      <td>NaN</td>\n",
       "      <td>NaN</td>\n",
       "      <td>NaN</td>\n",
       "      <td>True</td>\n",
       "      <td>False</td>\n",
       "      <td>False</td>\n",
       "      <td>True</td>\n",
       "      <td>NaN</td>\n",
       "      <td>NaN</td>\n",
       "      <td>NaN</td>\n",
       "    </tr>\n",
       "    <tr>\n",
       "      <td>11</td>\n",
       "      <td>11</td>\n",
       "      <td>47072445</td>\n",
       "      <td>TX2126</td>\n",
       "      <td>https://www.petfinder.com/dog/priscilla-470724...</td>\n",
       "      <td>Dog</td>\n",
       "      <td>Dog</td>\n",
       "      <td>{'primary': 'Australian Cattle Dog / Blue Heel...</td>\n",
       "      <td>{'primary': None, 'secondary': None, 'tertiary...</td>\n",
       "      <td>Young</td>\n",
       "      <td>Female</td>\n",
       "      <td>...</td>\n",
       "      <td>NaN</td>\n",
       "      <td>NaN</td>\n",
       "      <td>NaN</td>\n",
       "      <td>False</td>\n",
       "      <td>False</td>\n",
       "      <td>False</td>\n",
       "      <td>False</td>\n",
       "      <td>NaN</td>\n",
       "      <td>NaN</td>\n",
       "      <td>NaN</td>\n",
       "    </tr>\n",
       "  </tbody>\n",
       "</table>\n",
       "<p>5 rows × 40 columns</p>\n",
       "</div>"
      ],
      "text/plain": [
       "    Unnamed: 0        id organization_id  \\\n",
       "0            0  47072487           CA803   \n",
       "4            4  47072434           ON305   \n",
       "7            7  47072432           OH415   \n",
       "8            8  47072466            KS07   \n",
       "11          11  47072445          TX2126   \n",
       "\n",
       "                                                  url type species  \\\n",
       "0   https://www.petfinder.com/dog/rowan-47072487/c...  Dog     Dog   \n",
       "4   https://www.petfinder.com/dog/rosie-and-posie-...  Dog     Dog   \n",
       "7   https://www.petfinder.com/dog/christmas-past-4...  Dog     Dog   \n",
       "8   https://www.petfinder.com/dog/gwen-47072466/ks...  Dog     Dog   \n",
       "11  https://www.petfinder.com/dog/priscilla-470724...  Dog     Dog   \n",
       "\n",
       "                                               breeds  \\\n",
       "0   {'primary': 'Siberian Husky', 'secondary': Non...   \n",
       "4   {'primary': 'Goldendoodle', 'secondary': None,...   \n",
       "7   {'primary': 'Beagle', 'secondary': 'Jack Russe...   \n",
       "8   {'primary': 'Dogue de Bordeaux', 'secondary': ...   \n",
       "11  {'primary': 'Australian Cattle Dog / Blue Heel...   \n",
       "\n",
       "                                               colors    age  gender  ...  \\\n",
       "0   {'primary': None, 'secondary': None, 'tertiary...  Adult  Female  ...   \n",
       "4   {'primary': None, 'secondary': None, 'tertiary...   Baby  Female  ...   \n",
       "7   {'primary': 'Tricolor (Brown, Black, & White)'...   Baby  Female  ...   \n",
       "8   {'primary': None, 'secondary': None, 'tertiary...  Adult  Female  ...   \n",
       "11  {'primary': None, 'secondary': None, 'tertiary...  Young  Female  ...   \n",
       "\n",
       "                              color1 color2 color3 spayed_neutered  \\\n",
       "0                                NaN    NaN    NaN            True   \n",
       "4                                NaN    NaN    NaN           False   \n",
       "7   Tricolor (Brown, Black, & White)    NaN    NaN            True   \n",
       "8                                NaN    NaN    NaN            True   \n",
       "11                               NaN    NaN    NaN           False   \n",
       "\n",
       "   house_trained special_needs shots_current friendly_children friendly_dogs  \\\n",
       "0          False         False         False               NaN           NaN   \n",
       "4           True         False          True              True          True   \n",
       "7          False         False          True               NaN           NaN   \n",
       "8          False         False          True               NaN           NaN   \n",
       "11         False         False         False               NaN           NaN   \n",
       "\n",
       "   friendly_cats  \n",
       "0            NaN  \n",
       "4           True  \n",
       "7            NaN  \n",
       "8            NaN  \n",
       "11           NaN  \n",
       "\n",
       "[5 rows x 40 columns]"
      ]
     },
     "execution_count": 5,
     "metadata": {},
     "output_type": "execute_result"
    }
   ],
   "source": [
    "female_dogs_df = dogs_sw[dogs_sw[\"gender\"]==\"Female\"]\n",
    "female_dogs_df.head()"
   ]
  },
  {
   "cell_type": "code",
   "execution_count": 6,
   "metadata": {},
   "outputs": [
    {
     "data": {
      "text/html": [
       "<div>\n",
       "<style scoped>\n",
       "    .dataframe tbody tr th:only-of-type {\n",
       "        vertical-align: middle;\n",
       "    }\n",
       "\n",
       "    .dataframe tbody tr th {\n",
       "        vertical-align: top;\n",
       "    }\n",
       "\n",
       "    .dataframe thead th {\n",
       "        text-align: right;\n",
       "    }\n",
       "</style>\n",
       "<table border=\"1\" class=\"dataframe\">\n",
       "  <thead>\n",
       "    <tr style=\"text-align: right;\">\n",
       "      <th></th>\n",
       "      <th>Unnamed: 0</th>\n",
       "      <th>id</th>\n",
       "      <th>organization_id</th>\n",
       "      <th>url</th>\n",
       "      <th>type</th>\n",
       "      <th>species</th>\n",
       "      <th>breeds</th>\n",
       "      <th>colors</th>\n",
       "      <th>age</th>\n",
       "      <th>gender</th>\n",
       "      <th>...</th>\n",
       "      <th>color1</th>\n",
       "      <th>color2</th>\n",
       "      <th>color3</th>\n",
       "      <th>spayed_neutered</th>\n",
       "      <th>house_trained</th>\n",
       "      <th>special_needs</th>\n",
       "      <th>shots_current</th>\n",
       "      <th>friendly_children</th>\n",
       "      <th>friendly_dogs</th>\n",
       "      <th>friendly_cats</th>\n",
       "    </tr>\n",
       "  </thead>\n",
       "  <tbody>\n",
       "    <tr>\n",
       "      <td>1</td>\n",
       "      <td>1</td>\n",
       "      <td>47072473</td>\n",
       "      <td>IN112</td>\n",
       "      <td>https://www.petfinder.com/dog/freeway-47072473...</td>\n",
       "      <td>Dog</td>\n",
       "      <td>Dog</td>\n",
       "      <td>{'primary': 'Jack Russell Terrier', 'secondary...</td>\n",
       "      <td>{'primary': 'Brown / Chocolate', 'secondary': ...</td>\n",
       "      <td>Senior</td>\n",
       "      <td>Male</td>\n",
       "      <td>...</td>\n",
       "      <td>Brown / Chocolate</td>\n",
       "      <td>White / Cream</td>\n",
       "      <td>NaN</td>\n",
       "      <td>True</td>\n",
       "      <td>False</td>\n",
       "      <td>True</td>\n",
       "      <td>True</td>\n",
       "      <td>True</td>\n",
       "      <td>True</td>\n",
       "      <td>NaN</td>\n",
       "    </tr>\n",
       "    <tr>\n",
       "      <td>2</td>\n",
       "      <td>2</td>\n",
       "      <td>47072474</td>\n",
       "      <td>NC924</td>\n",
       "      <td>https://www.petfinder.com/dog/tokie-47072474/n...</td>\n",
       "      <td>Dog</td>\n",
       "      <td>Dog</td>\n",
       "      <td>{'primary': 'Shih Tzu', 'secondary': None, 'mi...</td>\n",
       "      <td>{'primary': 'White / Cream', 'secondary': None...</td>\n",
       "      <td>Young</td>\n",
       "      <td>Male</td>\n",
       "      <td>...</td>\n",
       "      <td>White / Cream</td>\n",
       "      <td>NaN</td>\n",
       "      <td>NaN</td>\n",
       "      <td>True</td>\n",
       "      <td>True</td>\n",
       "      <td>False</td>\n",
       "      <td>True</td>\n",
       "      <td>False</td>\n",
       "      <td>NaN</td>\n",
       "      <td>False</td>\n",
       "    </tr>\n",
       "    <tr>\n",
       "      <td>3</td>\n",
       "      <td>3</td>\n",
       "      <td>47072469</td>\n",
       "      <td>GA916</td>\n",
       "      <td>https://www.petfinder.com/dog/rambo-47072469/f...</td>\n",
       "      <td>Dog</td>\n",
       "      <td>Dog</td>\n",
       "      <td>{'primary': 'Cocker Spaniel', 'secondary': Non...</td>\n",
       "      <td>{'primary': 'Black', 'secondary': 'Yellow / Ta...</td>\n",
       "      <td>Young</td>\n",
       "      <td>Male</td>\n",
       "      <td>...</td>\n",
       "      <td>Black</td>\n",
       "      <td>Yellow / Tan / Blond / Fawn</td>\n",
       "      <td>NaN</td>\n",
       "      <td>True</td>\n",
       "      <td>True</td>\n",
       "      <td>False</td>\n",
       "      <td>True</td>\n",
       "      <td>NaN</td>\n",
       "      <td>True</td>\n",
       "      <td>NaN</td>\n",
       "    </tr>\n",
       "    <tr>\n",
       "      <td>5</td>\n",
       "      <td>5</td>\n",
       "      <td>47072460</td>\n",
       "      <td>AR238</td>\n",
       "      <td>https://www.petfinder.com/dog/spanky-47072460/...</td>\n",
       "      <td>Dog</td>\n",
       "      <td>Dog</td>\n",
       "      <td>{'primary': 'Spaniel', 'secondary': 'Pointer',...</td>\n",
       "      <td>{'primary': 'White / Cream', 'secondary': 'Yel...</td>\n",
       "      <td>Young</td>\n",
       "      <td>Male</td>\n",
       "      <td>...</td>\n",
       "      <td>White / Cream</td>\n",
       "      <td>Yellow / Tan / Blond / Fawn</td>\n",
       "      <td>NaN</td>\n",
       "      <td>True</td>\n",
       "      <td>False</td>\n",
       "      <td>False</td>\n",
       "      <td>True</td>\n",
       "      <td>True</td>\n",
       "      <td>True</td>\n",
       "      <td>NaN</td>\n",
       "    </tr>\n",
       "    <tr>\n",
       "      <td>6</td>\n",
       "      <td>6</td>\n",
       "      <td>47072459</td>\n",
       "      <td>IN53</td>\n",
       "      <td>https://www.petfinder.com/dog/twix-star-1-20-2...</td>\n",
       "      <td>Dog</td>\n",
       "      <td>Dog</td>\n",
       "      <td>{'primary': 'Treeing Walker Coonhound', 'secon...</td>\n",
       "      <td>{'primary': None, 'secondary': None, 'tertiary...</td>\n",
       "      <td>Young</td>\n",
       "      <td>Male</td>\n",
       "      <td>...</td>\n",
       "      <td>NaN</td>\n",
       "      <td>NaN</td>\n",
       "      <td>NaN</td>\n",
       "      <td>True</td>\n",
       "      <td>True</td>\n",
       "      <td>False</td>\n",
       "      <td>True</td>\n",
       "      <td>NaN</td>\n",
       "      <td>True</td>\n",
       "      <td>NaN</td>\n",
       "    </tr>\n",
       "  </tbody>\n",
       "</table>\n",
       "<p>5 rows × 40 columns</p>\n",
       "</div>"
      ],
      "text/plain": [
       "   Unnamed: 0        id organization_id  \\\n",
       "1           1  47072473           IN112   \n",
       "2           2  47072474           NC924   \n",
       "3           3  47072469           GA916   \n",
       "5           5  47072460           AR238   \n",
       "6           6  47072459            IN53   \n",
       "\n",
       "                                                 url type species  \\\n",
       "1  https://www.petfinder.com/dog/freeway-47072473...  Dog     Dog   \n",
       "2  https://www.petfinder.com/dog/tokie-47072474/n...  Dog     Dog   \n",
       "3  https://www.petfinder.com/dog/rambo-47072469/f...  Dog     Dog   \n",
       "5  https://www.petfinder.com/dog/spanky-47072460/...  Dog     Dog   \n",
       "6  https://www.petfinder.com/dog/twix-star-1-20-2...  Dog     Dog   \n",
       "\n",
       "                                              breeds  \\\n",
       "1  {'primary': 'Jack Russell Terrier', 'secondary...   \n",
       "2  {'primary': 'Shih Tzu', 'secondary': None, 'mi...   \n",
       "3  {'primary': 'Cocker Spaniel', 'secondary': Non...   \n",
       "5  {'primary': 'Spaniel', 'secondary': 'Pointer',...   \n",
       "6  {'primary': 'Treeing Walker Coonhound', 'secon...   \n",
       "\n",
       "                                              colors     age gender  ...  \\\n",
       "1  {'primary': 'Brown / Chocolate', 'secondary': ...  Senior   Male  ...   \n",
       "2  {'primary': 'White / Cream', 'secondary': None...   Young   Male  ...   \n",
       "3  {'primary': 'Black', 'secondary': 'Yellow / Ta...   Young   Male  ...   \n",
       "5  {'primary': 'White / Cream', 'secondary': 'Yel...   Young   Male  ...   \n",
       "6  {'primary': None, 'secondary': None, 'tertiary...   Young   Male  ...   \n",
       "\n",
       "              color1                       color2 color3 spayed_neutered  \\\n",
       "1  Brown / Chocolate                White / Cream    NaN            True   \n",
       "2      White / Cream                          NaN    NaN            True   \n",
       "3              Black  Yellow / Tan / Blond / Fawn    NaN            True   \n",
       "5      White / Cream  Yellow / Tan / Blond / Fawn    NaN            True   \n",
       "6                NaN                          NaN    NaN            True   \n",
       "\n",
       "  house_trained special_needs shots_current friendly_children friendly_dogs  \\\n",
       "1         False          True          True              True          True   \n",
       "2          True         False          True             False           NaN   \n",
       "3          True         False          True               NaN          True   \n",
       "5         False         False          True              True          True   \n",
       "6          True         False          True               NaN          True   \n",
       "\n",
       "  friendly_cats  \n",
       "1           NaN  \n",
       "2         False  \n",
       "3           NaN  \n",
       "5           NaN  \n",
       "6           NaN  \n",
       "\n",
       "[5 rows x 40 columns]"
      ]
     },
     "execution_count": 6,
     "metadata": {},
     "output_type": "execute_result"
    }
   ],
   "source": [
    "male_dogs_df = dogs_sw[dogs_sw[\"gender\"]==\"Male\"]\n",
    "male_dogs_df.head()"
   ]
  },
  {
   "cell_type": "code",
   "execution_count": 7,
   "metadata": {},
   "outputs": [
    {
     "data": {
      "text/plain": [
       "bella    75\n",
       "lucy     65\n",
       "luna     60\n",
       "daisy    58\n",
       "molly    56\n",
       "lola     44\n",
       "sadie    40\n",
       "holly    36\n",
       "sasha    36\n",
       "coco     35\n",
       "Name: name, dtype: int64"
      ]
     },
     "execution_count": 7,
     "metadata": {},
     "output_type": "execute_result"
    }
   ],
   "source": [
    "female_name = female_dogs_df['name'].value_counts()\n",
    "female_name.head(10)"
   ]
  },
  {
   "cell_type": "code",
   "execution_count": 8,
   "metadata": {},
   "outputs": [
    {
     "data": {
      "image/png": "[encoded data removed]",
      "text/plain": [
       "<Figure size 432x288 with 1 Axes>"
      ]
     },
     "metadata": {
      "needs_background": "light"
     },
     "output_type": "display_data"
    }
   ],
   "source": [
    "female_name_plot = female_name.iloc[0:10].plot(kind='bar')\n"
   ]
  },
  {
   "cell_type": "code",
   "execution_count": 9,
   "metadata": {},
   "outputs": [
    {
     "data": {
      "text/plain": [
       "max        84\n",
       "buddy      62\n",
       "charlie    53\n",
       "bear       43\n",
       "jack       42\n",
       "duke       42\n",
       "rocky      41\n",
       "toby       34\n",
       "milo       34\n",
       "finn       30\n",
       "Name: name, dtype: int64"
      ]
     },
     "execution_count": 9,
     "metadata": {},
     "output_type": "execute_result"
    }
   ],
   "source": [
    "male_name = male_dogs_df['name'].value_counts()\n",
    "male_name.head(10)"
   ]
  },
  {
   "cell_type": "code",
   "execution_count": null,
   "metadata": {},
   "outputs": [],
   "source": []
  },
  {
   "cell_type": "code",
   "execution_count": 10,
   "metadata": {},
   "outputs": [
    {
     "data": {
      "image/png": "[encoded data removed]",
      "text/plain": [
       "<Figure size 432x288 with 1 Axes>"
      ]
     },
     "metadata": {
      "needs_background": "light"
     },
     "output_type": "display_data"
    }
   ],
   "source": [
    "Male_name_plot = male_name.iloc[0:10].plot(kind='bar')"
   ]
  },
  {
   "cell_type": "code",
   "execution_count": 11,
   "metadata": {},
   "outputs": [
    {
     "data": {
      "text/plain": [
       "20000"
      ]
     },
     "execution_count": 11,
     "metadata": {},
     "output_type": "execute_result"
    }
   ],
   "source": [
    "#Find total number of dogs in the data set\n",
    "total_population = len(dogs_sw.house_trained)\n",
    "total_population"
   ]
  },
  {
   "cell_type": "code",
   "execution_count": 33,
   "metadata": {},
   "outputs": [
    {
     "data": {
      "image/png": "[encoded data removed]",
      "text/plain": [
       "<Figure size 432x288 with 1 Axes>"
      ]
     },
     "metadata": {
      "needs_background": "light"
     },
     "output_type": "display_data"
    }
   ],
   "source": [
    "# Group data by status\n",
    "groupby_status_sw = dogs_sw.groupby(\"status\")\n",
    "\n",
    "# Group house-trained dog by status\n",
    "house_trained_status = groupby_status_sw[\"house_trained\"].count()\n",
    "\n",
    "#Find percentage of house-trained dog by status\n",
    "house_trained_status_percentage = (house_trained_status/total_population)\n",
    "house_trained_status_percentage\n",
    "house_trained_df = pd.DataFrame({\"house_trained_status\": house_trained_status,\"house_trained_status_percentage\":house_trained_status_percentage})\n",
    "\n",
    "# Format with %\n",
    "house_trained_df.style.format({\"house_trained_status_percentage\": \"{:,.2%}\"})\n",
    "\n",
    "house_trained_df = house_trained_df[\"house_trained_status_percentage\"].plot(kind='bar')\n",
    "\n",
    "# # Set a Title and labels\n",
    "plt.title(\"Training Status\")\n",
    "plt.xlabel(\"Adoption Status\")\n",
    "plt.ylabel(\"Percent\")\n",
    "\n",
    "import matplotlib.ticker as mtick\n",
    "\n",
    "house_trained_df.yaxis.set_major_formatter(mtick.PercentFormatter())\n",
    "\n",
    "# in every # of dogs, X # of dogs will be adopted"
   ]
  },
  {
   "cell_type": "code",
   "execution_count": 18,
   "metadata": {},
   "outputs": [],
   "source": [
    "house_trained = pd.DataFrame({\"Trained\":trained_population})\n",
    "house_trained\n",
    "# Find out how many dogs are not being house trained and being house trained \n",
    "total_trained_untrained = dogs_sw['house_trained'].value_counts()/total_population\n",
    "\n",
    "# Format with %\n",
    "#total_trained_untrained.style.format([1]: \"{:,.2%}\"})\n",
    "\n",
    "#total_trained_untrained"
   ]
  },
  {
   "cell_type": "code",
   "execution_count": 19,
   "metadata": {},
   "outputs": [
    {
     "data": {
      "text/plain": [
       "False    0.8006\n",
       "True     0.1994\n",
       "Name: house_trained, dtype: float64"
      ]
     },
     "execution_count": 19,
     "metadata": {},
     "output_type": "execute_result"
    }
   ],
   "source": [
    "total_trained_untrained"
   ]
  },
  {
   "cell_type": "code",
   "execution_count": 20,
   "metadata": {},
   "outputs": [
    {
     "data": {
      "text/html": [
       "<div>\n",
       "<style scoped>\n",
       "    .dataframe tbody tr th:only-of-type {\n",
       "        vertical-align: middle;\n",
       "    }\n",
       "\n",
       "    .dataframe tbody tr th {\n",
       "        vertical-align: top;\n",
       "    }\n",
       "\n",
       "    .dataframe thead th {\n",
       "        text-align: right;\n",
       "    }\n",
       "</style>\n",
       "<table border=\"1\" class=\"dataframe\">\n",
       "  <thead>\n",
       "    <tr style=\"text-align: right;\">\n",
       "      <th></th>\n",
       "      <th>house_trained</th>\n",
       "    </tr>\n",
       "  </thead>\n",
       "  <tbody>\n",
       "    <tr>\n",
       "      <td>False</td>\n",
       "      <td>16012</td>\n",
       "    </tr>\n",
       "    <tr>\n",
       "      <td>True</td>\n",
       "      <td>3988</td>\n",
       "    </tr>\n",
       "  </tbody>\n",
       "</table>\n",
       "</div>"
      ],
      "text/plain": [
       "       house_trained\n",
       "False          16012\n",
       "True            3988"
      ]
     },
     "execution_count": 20,
     "metadata": {},
     "output_type": "execute_result"
    }
   ],
   "source": [
    "total_trained_untrained1 = dogs_sw['house_trained'].value_counts()\n",
    "total_trained_untrained_df = pd.DataFrame(total_trained_untrained1)\n",
    "total_trained_untrained_df "
   ]
  },
  {
   "cell_type": "code",
   "execution_count": 21,
   "metadata": {},
   "outputs": [
    {
     "data": {
      "text/plain": [
       "<matplotlib.axes._subplots.AxesSubplot at 0x11d8e3150>"
      ]
     },
     "execution_count": 21,
     "metadata": {},
     "output_type": "execute_result"
    },
    {
     "data": {
      "image/png": "[encoded data removed]",
      "text/plain": [
       "<Figure size 432x288 with 1 Axes>"
      ]
     },
     "metadata": {
      "needs_background": "light"
     },
     "output_type": "display_data"
    }
   ],
   "source": [
    "total_trained_untrained.plot(kind='bar')"
   ]
  },
  {
   "cell_type": "code",
   "execution_count": 22,
   "metadata": {},
   "outputs": [],
   "source": [
    "trained_1 = dogs_sw[dogs_sw.status=='adopted'].groupby(['house_trained'])[\"status\"].value_counts()\n",
    "trained_1_pd  = pd.DataFrame({\"Total House Trained Attribute Adopted\":trained_1})\n",
    "\n",
    "\n"
   ]
  },
  {
   "cell_type": "code",
   "execution_count": 23,
   "metadata": {},
   "outputs": [
    {
     "data": {
      "text/plain": [
       "<matplotlib.axes._subplots.AxesSubplot at 0x11d8dd150>"
      ]
     },
     "execution_count": 23,
     "metadata": {},
     "output_type": "execute_result"
    },
    {
     "data": {
      "image/png": "[encoded data removed]",
      "text/plain": [
       "<Figure size 432x288 with 1 Axes>"
      ]
     },
     "metadata": {
      "needs_background": "light"
     },
     "output_type": "display_data"
    }
   ],
   "source": [
    "\n",
    "trained_1_pd.plot(kind='bar')"
   ]
  },
  {
   "cell_type": "code",
   "execution_count": 25,
   "metadata": {},
   "outputs": [
    {
     "data": {
      "text/html": [
       "<div>\n",
       "<style scoped>\n",
       "    .dataframe tbody tr th:only-of-type {\n",
       "        vertical-align: middle;\n",
       "    }\n",
       "\n",
       "    .dataframe tbody tr th {\n",
       "        vertical-align: top;\n",
       "    }\n",
       "\n",
       "    .dataframe thead th {\n",
       "        text-align: right;\n",
       "    }\n",
       "</style>\n",
       "<table border=\"1\" class=\"dataframe\">\n",
       "  <thead>\n",
       "    <tr style=\"text-align: right;\">\n",
       "      <th></th>\n",
       "      <th>house_trained</th>\n",
       "    </tr>\n",
       "    <tr>\n",
       "      <th>status</th>\n",
       "      <th></th>\n",
       "    </tr>\n",
       "  </thead>\n",
       "  <tbody>\n",
       "    <tr>\n",
       "      <td>adoptable</td>\n",
       "      <td>3491</td>\n",
       "    </tr>\n",
       "    <tr>\n",
       "      <td>adopted</td>\n",
       "      <td>496</td>\n",
       "    </tr>\n",
       "    <tr>\n",
       "      <td>found</td>\n",
       "      <td>1</td>\n",
       "    </tr>\n",
       "  </tbody>\n",
       "</table>\n",
       "</div>"
      ],
      "text/plain": [
       "           house_trained\n",
       "status                  \n",
       "adoptable           3491\n",
       "adopted              496\n",
       "found                  1"
      ]
     },
     "execution_count": 25,
     "metadata": {},
     "output_type": "execute_result"
    }
   ],
   "source": [
    "# Analyze population of dogs that are house trained\n",
    "trained_population = dogs_sw[dogs_sw.house_trained==True]['house_trained'].value_counts()\n",
    "\n",
    "# Group house trained dogs by status\n",
    "trained_population_df = dogs_sw[dogs_sw.house_trained==True].groupby(by='status').count()[['house_trained']]\n",
    "trained_population_df"
   ]
  },
  {
   "cell_type": "code",
   "execution_count": 26,
   "metadata": {},
   "outputs": [
    {
     "data": {
      "text/plain": [
       "<matplotlib.axes._subplots.AxesSubplot at 0x11dcb0510>"
      ]
     },
     "execution_count": 26,
     "metadata": {},
     "output_type": "execute_result"
    },
    {
     "data": {
      "image/png": "[encoded data removed]",
      "text/plain": [
       "<Figure size 432x288 with 1 Axes>"
      ]
     },
     "metadata": {
      "needs_background": "light"
     },
     "output_type": "display_data"
    }
   ],
   "source": [
    "# Plot \n",
    "trained_1 = dogs_sw[dogs_sw.status=='adopted'].groupby(['house_trained'])[\"status\"].value_counts()\n",
    "trained_percent_1 = \n",
    "trained_1.plot(kind='bar')\n",
    "\n"
   ]
  },
  {
   "cell_type": "code",
   "execution_count": 35,
   "metadata": {},
   "outputs": [
    {
     "data": {
      "text/plain": [
       "1746"
      ]
     },
     "execution_count": 35,
     "metadata": {},
     "output_type": "execute_result"
    }
   ],
   "source": [
    "adopt = dogs_sw[dogs_sw.status=='adopted'][\"status\"].count()\n",
    "adopt"
   ]
  },
  {
   "cell_type": "code",
   "execution_count": 27,
   "metadata": {},
   "outputs": [
    {
     "data": {
      "text/html": [
       "<div>\n",
       "<style scoped>\n",
       "    .dataframe tbody tr th:only-of-type {\n",
       "        vertical-align: middle;\n",
       "    }\n",
       "\n",
       "    .dataframe tbody tr th {\n",
       "        vertical-align: top;\n",
       "    }\n",
       "\n",
       "    .dataframe thead th {\n",
       "        text-align: right;\n",
       "    }\n",
       "</style>\n",
       "<table border=\"1\" class=\"dataframe\">\n",
       "  <thead>\n",
       "    <tr style=\"text-align: right;\">\n",
       "      <th></th>\n",
       "      <th></th>\n",
       "      <th>id</th>\n",
       "    </tr>\n",
       "    <tr>\n",
       "      <th>status</th>\n",
       "      <th>house_trained</th>\n",
       "      <th></th>\n",
       "    </tr>\n",
       "  </thead>\n",
       "  <tbody>\n",
       "    <tr>\n",
       "      <td rowspan=\"2\" valign=\"top\">adoptable</td>\n",
       "      <td>False</td>\n",
       "      <td>14723</td>\n",
       "    </tr>\n",
       "    <tr>\n",
       "      <td>True</td>\n",
       "      <td>3491</td>\n",
       "    </tr>\n",
       "    <tr>\n",
       "      <td rowspan=\"2\" valign=\"top\">adopted</td>\n",
       "      <td>False</td>\n",
       "      <td>1250</td>\n",
       "    </tr>\n",
       "    <tr>\n",
       "      <td>True</td>\n",
       "      <td>496</td>\n",
       "    </tr>\n",
       "    <tr>\n",
       "      <td rowspan=\"2\" valign=\"top\">found</td>\n",
       "      <td>False</td>\n",
       "      <td>39</td>\n",
       "    </tr>\n",
       "    <tr>\n",
       "      <td>True</td>\n",
       "      <td>1</td>\n",
       "    </tr>\n",
       "  </tbody>\n",
       "</table>\n",
       "</div>"
      ],
      "text/plain": [
       "                            id\n",
       "status    house_trained       \n",
       "adoptable False          14723\n",
       "          True            3491\n",
       "adopted   False           1250\n",
       "          True             496\n",
       "found     False             39\n",
       "          True               1"
      ]
     },
     "metadata": {},
     "output_type": "display_data"
    },
    {
     "data": {
      "text/html": [
       "<div>\n",
       "<style scoped>\n",
       "    .dataframe tbody tr th:only-of-type {\n",
       "        vertical-align: middle;\n",
       "    }\n",
       "\n",
       "    .dataframe tbody tr th {\n",
       "        vertical-align: top;\n",
       "    }\n",
       "\n",
       "    .dataframe thead th {\n",
       "        text-align: right;\n",
       "    }\n",
       "</style>\n",
       "<table border=\"1\" class=\"dataframe\">\n",
       "  <thead>\n",
       "    <tr style=\"text-align: right;\">\n",
       "      <th></th>\n",
       "      <th>id</th>\n",
       "    </tr>\n",
       "    <tr>\n",
       "      <th>status</th>\n",
       "      <th></th>\n",
       "    </tr>\n",
       "  </thead>\n",
       "  <tbody>\n",
       "    <tr>\n",
       "      <td>adoptable</td>\n",
       "      <td>18214</td>\n",
       "    </tr>\n",
       "    <tr>\n",
       "      <td>adopted</td>\n",
       "      <td>1746</td>\n",
       "    </tr>\n",
       "    <tr>\n",
       "      <td>found</td>\n",
       "      <td>40</td>\n",
       "    </tr>\n",
       "  </tbody>\n",
       "</table>\n",
       "</div>"
      ],
      "text/plain": [
       "              id\n",
       "status          \n",
       "adoptable  18214\n",
       "adopted     1746\n",
       "found         40"
      ]
     },
     "metadata": {},
     "output_type": "display_data"
    },
    {
     "data": {
      "text/plain": [
       "status     house_trained\n",
       "adoptable  False            0.808334\n",
       "           True             0.191666\n",
       "adopted    False            0.715922\n",
       "           True             0.284078\n",
       "found      False            0.975000\n",
       "           True             0.025000\n",
       "Name: id, dtype: float64"
      ]
     },
     "execution_count": 27,
     "metadata": {},
     "output_type": "execute_result"
    }
   ],
   "source": [
    "df1 = dogs_sw[['house_trained','status','id']].groupby(['status','house_trained']).count()\n",
    "df2 = dogs_sw[['status','id']].groupby(['status']).count()\n",
    " \n",
    "display(df1)\n",
    "display(df2)\n",
    "df = df1/df2\n",
    "df.id"
   ]
  },
  {
   "cell_type": "code",
   "execution_count": 28,
   "metadata": {},
   "outputs": [
    {
     "data": {
      "text/html": [
       "<div>\n",
       "<style scoped>\n",
       "    .dataframe tbody tr th:only-of-type {\n",
       "        vertical-align: middle;\n",
       "    }\n",
       "\n",
       "    .dataframe tbody tr th {\n",
       "        vertical-align: top;\n",
       "    }\n",
       "\n",
       "    .dataframe thead th {\n",
       "        text-align: right;\n",
       "    }\n",
       "</style>\n",
       "<table border=\"1\" class=\"dataframe\">\n",
       "  <thead>\n",
       "    <tr style=\"text-align: right;\">\n",
       "      <th></th>\n",
       "      <th>house_trained</th>\n",
       "    </tr>\n",
       "  </thead>\n",
       "  <tbody>\n",
       "    <tr>\n",
       "      <td>False</td>\n",
       "      <td>16012</td>\n",
       "    </tr>\n",
       "    <tr>\n",
       "      <td>True</td>\n",
       "      <td>3988</td>\n",
       "    </tr>\n",
       "  </tbody>\n",
       "</table>\n",
       "</div>"
      ],
      "text/plain": [
       "       house_trained\n",
       "False          16012\n",
       "True            3988"
      ]
     },
     "execution_count": 28,
     "metadata": {},
     "output_type": "execute_result"
    }
   ],
   "source": [
    "#percent = trained_1_pd.iloc[:,2]/house_trained.iloc[:,1]\n",
    "total_trained_untrained_df"
   ]
  },
  {
   "cell_type": "code",
   "execution_count": 31,
   "metadata": {},
   "outputs": [
    {
     "data": {
      "text/html": [
       "<div>\n",
       "<style scoped>\n",
       "    .dataframe tbody tr th:only-of-type {\n",
       "        vertical-align: middle;\n",
       "    }\n",
       "\n",
       "    .dataframe tbody tr th {\n",
       "        vertical-align: top;\n",
       "    }\n",
       "\n",
       "    .dataframe thead th {\n",
       "        text-align: right;\n",
       "    }\n",
       "</style>\n",
       "<table border=\"1\" class=\"dataframe\">\n",
       "  <thead>\n",
       "    <tr style=\"text-align: right;\">\n",
       "      <th></th>\n",
       "      <th>house_trained</th>\n",
       "    </tr>\n",
       "  </thead>\n",
       "  <tbody>\n",
       "    <tr>\n",
       "      <td>adoptable</td>\n",
       "      <td>NaN</td>\n",
       "    </tr>\n",
       "    <tr>\n",
       "      <td>adopted</td>\n",
       "      <td>NaN</td>\n",
       "    </tr>\n",
       "    <tr>\n",
       "      <td>found</td>\n",
       "      <td>NaN</td>\n",
       "    </tr>\n",
       "    <tr>\n",
       "      <td>False</td>\n",
       "      <td>NaN</td>\n",
       "    </tr>\n",
       "    <tr>\n",
       "      <td>True</td>\n",
       "      <td>NaN</td>\n",
       "    </tr>\n",
       "  </tbody>\n",
       "</table>\n",
       "</div>"
      ],
      "text/plain": [
       "           house_trained\n",
       "adoptable            NaN\n",
       "adopted              NaN\n",
       "found                NaN\n",
       "False                NaN\n",
       "True                 NaN"
      ]
     },
     "execution_count": 31,
     "metadata": {},
     "output_type": "execute_result"
    }
   ],
   "source": [
    "#Although dogs that are not hourse trained are adopted\n",
    "\n",
    "house_trained_status_adopted_percentage = (trained_population_df/total_trained_untrained_df)\n",
    "house_trained_status_adopted_percentage"
   ]
  },
  {
   "cell_type": "code",
   "execution_count": 32,
   "metadata": {},
   "outputs": [
    {
     "data": {
      "text/plain": [
       "0.12437311935807423"
      ]
     },
     "execution_count": 32,
     "metadata": {},
     "output_type": "execute_result"
    }
   ],
   "source": [
    "house_trained_status_adopted_percentage = (496/3988)\n",
    "house_trained_status_adopted_percentage\n"
   ]
  },
  {
   "cell_type": "code",
   "execution_count": 30,
   "metadata": {},
   "outputs": [
    {
     "data": {
      "text/plain": [
       "0.07806645016237822"
      ]
     },
     "execution_count": 30,
     "metadata": {},
     "output_type": "execute_result"
    }
   ],
   "source": [
    "house_trained_status_adoptedable_percentage = (1250/16012)\n",
    "house_trained_status_adoptedable_percentage"
   ]
  },
  {
   "cell_type": "code",
   "execution_count": null,
   "metadata": {},
   "outputs": [],
   "source": [
    "percent_adptable_df = pd.DataFrame({\"House Trained Status Adopted\": house_trained_status_adopted_percentage,\"House Trained Status Adopted\": house_trained_status_adoptedable_percentage})\n",
    "\n",
    "percent_adptable_df\n",
    "#type(house_trained_status)\n",
    "# groupby_status[\"house_trained\"].head()\n",
    "#house_trained_status.head()\n",
    "# groupby_status[]\n",
    "\n",
    "# groupby_status.head()\n",
    "\n",
    "# Format with %\n",
    "#percent_adptable.style.format({\"house_trained_status_percentage\": \"{:,.2%}\"})\n",
    "\n"
   ]
  },
  {
   "cell_type": "code",
   "execution_count": null,
   "metadata": {},
   "outputs": [],
   "source": [
    "trained_df = pd.DataFrame(trained)\n",
    "\n",
    "# Reset DataFrame Index\n",
    "trained_df.reset_index(inplace = True)\n",
    "trained_df"
   ]
  },
  {
   "cell_type": "code",
   "execution_count": null,
   "metadata": {},
   "outputs": [],
   "source": [
    "# Minor Data Munging to Re-Format the Data Frames and use \"Timepoint\" as an index so they will be used as lables\n",
    "trained_df_pivot = trained_df.pivot(index=\"house_trained\", columns=\"status\", values=\"house_trained\")\n",
    "\n",
    "# Preview that Reformatting worked\n",
    "trained_df_pivot.head()\n",
    "\n"
   ]
  },
  {
   "cell_type": "code",
   "execution_count": null,
   "metadata": {},
   "outputs": [],
   "source": [
    "status = trained.groupby(['status']).values()\n",
    "status\n",
    "\n"
   ]
  },
  {
   "cell_type": "code",
   "execution_count": null,
   "metadata": {},
   "outputs": [],
   "source": [
    "house_trained = pd.DataFrame({\"Trained\":trained})\n",
    "house_trained.round(2)"
   ]
  },
  {
   "cell_type": "code",
   "execution_count": null,
   "metadata": {},
   "outputs": [],
   "source": [
    "status=dogs_sw.groupby(['status']).mean()\n",
    "status"
   ]
  },
  {
   "cell_type": "code",
   "execution_count": null,
   "metadata": {},
   "outputs": [],
   "source": [
    "type(status)\n"
   ]
  },
  {
   "cell_type": "code",
   "execution_count": null,
   "metadata": {},
   "outputs": [],
   "source": [
    "\n",
    "status.house_trained.plot(kind='bar')"
   ]
  },
  {
   "cell_type": "code",
   "execution_count": null,
   "metadata": {},
   "outputs": [],
   "source": [
    "house_trained = dogs_sw.gropby(['house_trained']).count()\n",
    "status"
   ]
  },
  {
   "cell_type": "code",
   "execution_count": null,
   "metadata": {},
   "outputs": [],
   "source": [
    "df['a'].value_counts()"
   ]
  },
  {
   "cell_type": "code",
   "execution_count": null,
   "metadata": {},
   "outputs": [],
   "source": []
  },
  {
   "cell_type": "code",
   "execution_count": null,
   "metadata": {},
   "outputs": [],
   "source": []
  },
  {
   "cell_type": "code",
   "execution_count": null,
   "metadata": {},
   "outputs": [],
   "source": [
    "\n",
    "trained_population_df.iloc[1]/ total_trained_untrained_df.iloc[1]\n",
    "\n"
   ]
  },
  {
   "cell_type": "code",
   "execution_count": null,
   "metadata": {},
   "outputs": [],
   "source": []
  }
 ],
 "metadata": {
  "kernelspec": {
   "display_name": "Python 3",
   "language": "python",
   "name": "python3"
  },
  "language_info": {
   "codemirror_mode": {
    "name": "ipython",
    "version": 3
   },
   "file_extension": ".py",
   "mimetype": "text/x-python",
   "name": "python",
   "nbconvert_exporter": "python",
   "pygments_lexer": "ipython3",
   "version": "3.7.4"
  }
 },
 "nbformat": 4,
 "nbformat_minor": 4
}
